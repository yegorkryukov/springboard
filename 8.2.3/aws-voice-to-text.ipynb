{
 "cells": [
  {
   "cell_type": "code",
   "execution_count": 1,
   "metadata": {},
   "outputs": [],
   "source": [
    "def start_transcribe_job(transcribe, job_name, bucket, file):\n",
    "    \"\"\"Starts an AWS Transcribe job\n",
    "    \n",
    "    Parameters\n",
    "    ----------\n",
    "    transcribe : AWS `transcribe` service client instance\n",
    "    job_name : str, name of the AWS job\n",
    "    bucket : str, AWS S3 bucket name\n",
    "    file : str, name of the mp3 file to transcribe\n",
    "    \n",
    "    Returns\n",
    "    -------\n",
    "    True: if job started successfully\n",
    "    \n",
    "    \"\"\"\n",
    "    # this is the location of your mp3 file\n",
    "    file_uri = f'https://s3.amazonaws.com/{bucket}/{file}'\n",
    "    \n",
    "    # try launching the job and return any error messages\n",
    "    try:\n",
    "        transcribe.start_transcription_job(\n",
    "            TranscriptionJobName=job_name,\n",
    "            Media={'MediaFileUri': file_uri},\n",
    "            MediaFormat='mp3',\n",
    "            LanguageCode='en-US')\n",
    "        return True\n",
    "    except Exception as e:\n",
    "        return e"
   ]
  },
  {
   "cell_type": "code",
   "execution_count": 5,
   "metadata": {},
   "outputs": [],
   "source": [
    "def get_transcription_text(transcribe, job_name):\n",
    "    \"\"\"Returns transcription text for the AWS Transcribe job\n",
    "    \n",
    "    Parameters\n",
    "    ----------\n",
    "    transcribe : AWS `transcribe` service client instance\n",
    "    job_name : transcibe service `job` name\n",
    "    \n",
    "    Returns\n",
    "    -------\n",
    "    Current job status if job is still in progress\n",
    "    Transcription text if job is Completed\n",
    "    \"\"\"\n",
    "    import urllib.request\n",
    "    import json\n",
    "    import time\n",
    "    \n",
    "    # let's obtain the job instance\n",
    "    job = transcribe.get_transcription_job(TranscriptionJobName=job_name)\n",
    "    \n",
    "    # and it's status\n",
    "    status = job['TranscriptionJob']['TranscriptionJobStatus']\n",
    "    \n",
    "    # check the status every 5 seconds and \n",
    "    # return the transcribed text if the job is finished\n",
    "    # otherwise return None if job failed\n",
    "    while True:\n",
    "        if status == 'COMPLETED':\n",
    "            print(f\"Job {job_name} completed\")\n",
    "            with urllib.request.urlopen(job['TranscriptionJob']['Transcript']['TranscriptFileUri']) as r:\n",
    "                data = json.loads(r.read())\n",
    "            return data['results']['transcripts'][0]['transcript']\n",
    "        elif status == 'FAILED':\n",
    "            print(f\"Job {job_name} failed\")\n",
    "            return None\n",
    "        else:\n",
    "            print(f\"Status of job {job_name}: {status}\")\n",
    "            time.sleep(5)"
   ]
  },
  {
   "cell_type": "code",
   "execution_count": 7,
   "metadata": {},
   "outputs": [],
   "source": [
    "# 'rootkey.csv' is the file you've downloaded from AWS\n",
    "with open('rootkey.csv', 'r') as f:\n",
    "    content = f.readlines()\n",
    "\n",
    "keys = {}\n",
    "for line in content:\n",
    "    pair = line.strip().split('=')\n",
    "    keys.update({pair[0] : pair[1]})\n",
    "\n",
    "AWS_ACCESS_KEY_ID = keys['AWSAccessKeyId']\n",
    "AWS_SECRET_KEY = keys['AWSSecretKey']"
   ]
  },
  {
   "cell_type": "code",
   "execution_count": null,
   "metadata": {},
   "outputs": [],
   "source": [
    "import boto3\n",
    "\n",
    "BUCKET_NAME = 'springboard-test'\n",
    "FILE_NAME = 'testing.mp3'\n",
    "JOB_NAME = 'testing_transcribe'\n",
    "\n",
    "# Instantiate a client to the AWS transcribe service\n",
    "transcribe = boto3.client(\n",
    "    'transcribe',\n",
    "    aws_access_key_id=AWS_ACCESS_KEY_ID,\n",
    "    aws_secret_access_key=AWS_SECRET_KEY,\n",
    "    region_name='us-east-1')"
   ]
  },
  {
   "cell_type": "code",
   "execution_count": 9,
   "metadata": {},
   "outputs": [
    {
     "name": "stdout",
     "output_type": "stream",
     "text": [
      "Job testing_transcribe completed\n",
      "The transcribed text for testing.mp3 file:\n",
      "Chancellor. Mr. Vice Chancellor Professor Robertson Diamond Daniel that, ladies and gentlemen, I come here evening because of my deep interest and affection for a land settled by the Dutch in the mid 17 century, then taken over by the British and it last independent, a land in which the native inhabitants, where first subdued but relations with whom remain a problem to this day, a land which defined itself on a hostile frontier. A land which has attained rich natural resource is through the energetic application of modern technology, a land which was once the importer of play and now must struggled to wipe out the last traces of that form of bondage. I refer cost to the United States of America. But I'm glad to come here. My wife and I and all of our party. You're glad to come here to South Africa, and we're glad to come here to Cape Town. I am already greatly enjoying. I stay in my visit here. I am making an effort to meet and exchange views with people of all walks of life and all segments of South African opinion, including knows, represent the views of the government. Today I'm glad to meet with the National Union of South African Students for a decade, news that has stood and worked, but the principles of the Universal Declaration of Human Rights Principles, which embody the collective Popes. A man of good will all around the globe, your work at home and an international student, if a is, has brought great credit for yourself and to your country. I know the National Student Association in the United States feels a particularly close relationship, but this organization and I wish to thank, especially Mr G. And Robertson first extended the invitation on behalf of New says. I wish to thank him for his kindness to me and inviting me. I am very sorry that he cannot be with us here this evening. No way was happy to have had the opportunity to meet and speak with him earlier this evening, and I presented him with a copy of Profiles and Courage, which was a book that was written by President John Kennedy and was assigned to him by President Kennedy's widow, Mrs John Kennedy. This is a day of affirmation, a celebration of liberty. We stand here in the name of freedom, but the heart of that wisdom, freedom and democracy. The belief that the individual man, the child of God, is the Touchstone of value in all society, all groups and state exist. But that person's benefit therefore the enlargement of liberty for individual human being must be the supreme goal and the abiding practice of any Western society. The first element of this individual liberty. It's a freedom of speech, the right to express and communicate ideas to sit us oneself apart from the dumb beat a field and forest, the right to recall governments to their duty and to their obligations. Above all, the right to affirm one's membership and legions to the body, politics, to society, to the men with whom we share our land, our heritage and our Children's future and in hand with freedom of speech. Go with the power to be heard to share in the decisions of government which shape men's lives. Everything that makes men man like worthwhile family were education, a place to rear ones, Children and a place to rest one head. All this depends on the decisions of government. All can be swept away by a government which does not, he the demands of its people and I mean all of its people. Therefore the essential humanity of man can be protected and preserved Onley, where government must answer not just to the wealthy, not just to those of a particular religion, not just to those of a particular race but to all of the people on uneven government. By the consent of the governed, as in our own constitution, must be limited in its power to act against it people so that there may be no interference with the right to worship, but also no interference with the security of the home. No arbitrary imposition of pains of penalty on an ordinary citizen by officials. Higher, low, No restriction on the freedom of men to seek education or to seek work or opportunity of any kind, so that each man they become all that he is capable of becoming the way with sacred right of Western society. These were the essential differences between us and Nazi Germany that they were between Athens and Persia. They got the yet of our differences with communism. Today I am unalterably opposed to communism because it exalts the state over the individual and over the family and because it's system contains the lack of freedom of speech, a protest of religion and of the press, which is characteristic of a totalitarian regime. The way of opposition to communism, however, is not to imitate its dictatorship but to a large individual human freedom. There are those in every land would label a communist every threat to their privilege. But may I say to you, as I have seen on my travels in all sections of the world, reform is not communism. Denial of freedom in whatever name Onley strengthens the very communism that claim to oppose. Many nations have set forth their own definitions and declarations of these principles, and there have opened been wide and tragic gaps between promise and performance, ideal and reality that the great ideals have constantly re called us to our own duties and with painful slowness. We in the United States have extended and enlarged the meaning and the practice a freedom all of our people. For two centuries my own country has struggled to overcome the self imposed 10 cap, a prejudice and discrimination based on nationality on social class or race discrimination, for finally refunded to the theory under the command of our Constitution. Even as my father grew up in Boston, Massachusetts, signs told him, no Irish need apply. Two generations later, President Kennedy became the first Irish Catholic in the first Catholic who had the nation. But how many men of ability add before 1961 been denied the opportunity to contribute to the nation's progress because they were Catholic because they were virus extraction. How many sons of Italian or Jewish or Polish parents slumbered in the slum on talk unlearned their potential loss forever to our nation and to the human race? Even today? What price will we pay before we have assured full opportunity to millions of Negro Americans? In the last five years, we have done more to assure equality to our Negro citizens and to help the deprived, both white and black. Then in the 100 years before that time, but much, much more remains to be done. But there are millions of Negroes on train for the simplest of job, and thousands every day denied their full and equal rights Under the law and the violence of the disinherited he's insulted, the injured looms over the streets of Harlem and Watch and on the South Side of Chicago. But a Negro American frames now as an astronaut, one of mankind's first explorers into outer space. Another is the keep barrister of the United States government and doesn't sit on the benches of our court. And another doctor, Martin Luther King, is a second man African distance, to win the Nobel Peace Prize for his nonviolent efforts for social justice. Between all of the races we have passed, laws prohibiting way have passed laws prohibiting discrimination in education in employment and how the But these laws alone cannot overcome the heritage of centuries, a broken family and studied Children and poverty and degradation and pain for the road quality. Quality of freedom is not easy, and great cost and danger march alongside all of us. We are committed to peaceful and nonviolent change, and that is important toe all to understand, though change is unsettling. Still, even in the turbulence of protest and struggle is greater hope for the future, as men learned to claim and achieve for themselves the right formally petitioned from others. And most important of all, all of the panoply of government power has been committed to the goal of equality before the law as we are now committing ourselves to the achievement of equal opportunity. In fact, we must recognize the full human equality of all of our people before God, before the law and in the councils of government. You must do this not because it is economically advantageous, although it is not because the laws of God commanded, although they dio not because people in other lands we should. So we must do it for the single and fundamental reason that it is the right thing to do. We recognize that there are problems and obstacles before the fulfillment of these ideals in the United States, as we recognize that other nations in Latin America and in Asia and in Africa have their own political, economic and social problems. They're unique barriers, the elimination of injustices, and some there is concerned the change will submerge the rights of a minority, particularly where that minority is of a different race than that of the majority. We in the United States believe in the protection of minority. We recognize the contributions that they can make and the leadership that they can provide, and we do not believe that any people with a majority or minority individual human being are expendable in the cause of very are a policy. We recognize also that justice between man and nations isn't perfect and the humanity sometimes progressive, very slowly indeed, all do not develop in the same manner and at the same day. Nations like men often march to the big of different drummers and the precise solutions of the United States that need to be dictated nor transplanted to others. And that is not our intention. What is important, however, is that all me must march toward increasing freedom toward justice for all authority, society, strong and flexible enough to meet the demands of all of its people. Whatever their race and the demand that the world on immense and dizzying change the face is all in a few hours, the plane that brought me to this country crossed over oceans and countries which have been a crucible of human history. In minutes we traced migrations of men over thousands of years seconds the briefest glimpse, and we paused battlefield on which millions of men one struggled and died. We could see no national boundaries, no vast gulf or high walls, dividing people from people only nature and the works of van homes and factories and farms everywhere, reflecting man's common effort to win riches like everywhere. New technology and communications brings man and nations closer together, the concerns of one inevitably become the concerns of all. And our new closeness is stripping away the full max, the illusion of differences, which is the root of injustice and a hate and a war Onley Earthbound man still clings to the dark and poisoning superstition that his world is bounded by the nearest hill. His universe end that river shore, his common humanity been closed in the tight circle of those who share his town. Or if you and the color of his skin, it is it is your job, the task of young people in this world to strip the last remnants of that ancient cruel belief from the civilization of man. Each nation has different obstacles and different goals, shaped by the vagaries of history and of experience. Yet as I talk to young people around the world, I am impressed not by the diversity but by the closeness of their gold, their desires and their concerns and their hopes for the future. There is discrimination in New York, the racial inequality of apartheid in South Africa and serfdom in the mountains of Peru. People starved to death in the streets of India, a former prime minister summarily executed in the Congo. Intellectuals go to jail in Russia and thousands are slaughtered in Indonesia, wealth is lavished on armaments everywhere in the world. These are different evils, but they are the common works of band. They reflect the imperfections of human justice, the inadequacy of human compassion, the effectiveness of our sensibility. So with the sufferings of our fellows, they mark the limit of our ability to use knowledge for the well being of our fellow human beings throughout the world. And therefore they call upon what common quality of conscience and indignation a shared determination, wipe away the unnecessary suffering of our fellow human being at home and around the world. It is these quality which make of our youth today the only true international community. More than this, I think that we could agree on what kind of a world we would all want to build. It would be a world of independent nation moving, told with international community each of which protected and respected the basic human freedom would be a world which demanded of each government that it's accepted responsibility to ensure social justice. It would be a world of constantly accelerating economic progress, not material welfare, as an end in of itself, but as a means to liberate the capacity off every human being, to pursue his talents and to pursue it hopes it would ensure be a world that we would all be proud to have built. Just to the north of here, our lands of challenge and of opportunity, rich in natural resources, land and minerals and people that they are also lands confronted by the greatest odd overwhelming ignorance, internal tensions and strikes and great obstacles of climate and geography. Many of these nations as colonies were oppressed when were exploited. Yet they have not estrange themselves from the broad traditions of the West. They are hoping, and they are gambling their progress and the instability on the chance that we will meet our responsibility to them to help them overcome their poverty in the world we would like to build. South Africa could play an outstanding role and a roll of leadership in that effort, This country is, without question, they preeminent repository of the wealth and the knowledge and the scale of this continent. Here are the greater part of Africa's research scientist and steel production most of its reservoirs of coal and of electric power, many South Africans that made major contributions toe African technical development and world science. The names of son of known wherever man seek to eliminate the ravages of tropical disease and pestilence in your faculties and councils. Here in the very audience, are hundreds and thousands of men and women who could transform the lives of millions for all time to come. But the help and the leadership of South Africa or of the United States cannot be accepted if we within our own country or in our relationships with others, deny individual integrity, human dignity and the common humanity of man. We would leave outside our own borders if we would help those who need our assistance. If we would meet our responsibilities to ban high, we must. First, all of us demolished the borders which history is directed between men within our own nation. Barry in the race and religion, social class and ignorance. Our answer is the world's hole have to rely on you the cruelties and the obstacles off the swiftly changing planet. Well, not heel toe, obsolete dogmas, outworn slogans. It cannot be moved by those who cling to a present which is already dying. I prefer the illusion off security to the excitement and danger which comes with even the most peaceful progress. This world demands the qualities of you not a time of life but a state of mind, A temper of the wheel, a quality of the imagination, a predominance of courage, over timidity, of the appetite for adventure over the life of the A man like the chancellor of this university way. It is a revolutionary world that we all live in. And that says I have said in Latin America and in Asia and in Europe and in my own country, the United States, it is the young people must take the lead that you and your young compatriots everywhere have had thrust upon you a greater burden of responsibility than any generation that has ever lived. There is that an Italian philosopher not be more difficult to take in hand, more perilous to conduct for more on 30 minutes, except but to take the lead into in the introduction of a new order of things. Yet this is the measure of the task of your generation, and the road is strewn with many dangers. First is the danger of futility, the belief there is nothing one man, a one woman and do against the enormous array of the world jail against misery against ignorance or injustice and violence. Yet many of the world's great movements a court in action, a blow from the work of a single man, a young monk began the Protestant Reformation. A young general extended an empire from Macedonia to the borders of the earth, and a young woman reclaimed the territory of France with young Italian explorer discovered the New World and 32 year old Thomas Jefferson, who proclaimed that all men are created equal. Give me a place, Kristan said. Our committees and I will move the world. These man moved the world, and so can we all. You will have the greatness to bend history, but each of us can work to change a small portion of the event and then the total. All of these acts will be written in the history of this generation. Thousands of Peace Corps volunteers there making a difference in the isolated villages in the city slum of dozens of countries. Thousands of unknown men and women in Europe resisted the occupation of the natural, and many die, but all added to the ultimate strength and freedom off their countries. It is from new moralists, numberless diverse acts of courage such as the but the belief that human history is that shape. Each time a man stands up for an ideal or acts to improve, the lot of others strikes out against injustice. He sends forth a tiny ripple of hope and crossing each other from a 1,000,000 different centers of energy and daring. Those ripples build a current which can sweep down the mightiest walls of oppression and resistance. If Athens Shell Apia Great, you said Eric. Please consider then that her glories were purchased by a valiant man and by man who learned their duty. That is the source of all greatness in all societies. And it is the key to progress in our time. The second danger is out of expediency. those who say that hopes and beliefs must bend before immediate necessities. Of course, that we must act effectively. We must deal with the world as it is. We must get things done. But if there was one thing that President Kennedy stood for touch the most profound feeling of young people around the world, it was the belief that idealism, high aspirations and deep convictions are not incompatible with the most practical and efficient a program. But there is no basic inconsistency between ideals and realistic possibility. No separation between the deepest desires, a part of mine and the rational application of human effort to human problems. It is not realistic or hard headed to solve problems and take action on God on guided by ultimate moral lane and value. Although we all know who claimed that it is so in my judgment it is thoughtless folly, for it ignores the realities of human face in a passion and, I believe forces ultimately more powerful than all the calculations of our economists or of our generals. Of course, to win here to standards toe idealism, division in the face of immediate dangers, it takes great courage and take self confidence. But we also know that Onley those Gaya to fail greatly they never achieved greatly. It is this new idealist, which is also, I believe, the common heritage of a generation which has learned that while efficiency can lead to the camp at Auschwitz or the streets of Budapest, only the ideals of humanity and love inclined the hills of the Acropolis. Third, dangerous timidity. Few men are willing to brave the disapproval of their fellows, the center of their colleagues, the raft of their society, moral courage if they rare a commodity and bravery in battle or great intelligence. It is the one essential, vital quality, but those who seek to change the world, which yields most painfully to change. Aristotle tells us at the Olympic Games it is not the finest or the strongest men who are crown, but those who entered the lists. So too, in the life of the honorable and the good, it is they who act right, win the pride. I believe that in this generation, though with the courage to enter, the conflict will find themselves with companions in every corner of the world, for the fortune and amongst us, the fourth danger, my friend, is comfort the temptation to follow the easy and familiar a personal ambition and financial success so grandly spread before those who have the privilege of an education. But that is not the road history as marked out for us. There is a Chinese curse which says, may he live in interesting times. Like it or not, we live in interesting times. They are times of danger and uncertainty, but they are also the most creative off any time in the history of mankind, and everyone here will ultimately be judged will ultimately judge himself on the effort. He has contributed building a New World society and the extent to which his ideal and gold have shaped that effort. So we are I to my country and you to remain. We are a man of 40 and claim the privilege fellow members of the world's largest younger generation, each of us of our own work to do. I know what time you must feel very alone with your problems and with your difficulties. But I want to say how impressed I am with the stand, what you stand for. But the effort that you were making and I say this not just for myself, but men and women all over the world. And I hope you will often take heart the knowledge that you are joined with your fellow young people in every land they struggling with their problems and you with yours. But all join in a common purpose that, like the young people of my own country and of every country that I have visited, you are all in many ways or closely united to the brothers of your time into the older generation. In any of these nations, you're determined to build a better future. President Kennedy was speaking to the young people of America, but beyond them, to young people everywhere. When he said the energy, the face devotion which we bring to this endeavor will light our country and all who serve it. And the glow from that fire truly like the world, he added, with a good conscience, our only sure reward with history the final judge of our d let us go for to lead the land we love asking his blessing and his help. But knowing that here on Earth God's work must truly be our own\n"
     ]
    }
   ],
   "source": [
    "# launch the job\n",
    "job_status = start_transcribe_job(transcribe, JOB_NAME, BUCKET_NAME, FILE_NAME)\n",
    "\n",
    "# if job launched successfully `job_status` will be True\n",
    "if job_status: # and we can start requesting the results from the service\n",
    "    text = get_transcription_text(transcribe, JOB_NAME)\n",
    "    print(f'The transcribed text for {FILE_NAME} file:')\n",
    "    print(text)\n",
    "else: # or print the error code if somethign went wrong\n",
    "    print(f'Job {JOB_NAME} failed with the error: {job_status}')"
   ]
  },
  {
   "cell_type": "code",
   "execution_count": null,
   "metadata": {},
   "outputs": [],
   "source": []
  }
 ],
 "metadata": {
  "kernelspec": {
   "display_name": "Python 3.8.3 64-bit ('springboard': conda)",
   "language": "python",
   "name": "python38364bitspringboardconda8eec40d942e84bf0a5a0c76aa15b276b"
  },
  "language_info": {
   "codemirror_mode": {
    "name": "ipython",
    "version": 3
   },
   "file_extension": ".py",
   "mimetype": "text/x-python",
   "name": "python",
   "nbconvert_exporter": "python",
   "pygments_lexer": "ipython3",
   "version": "3.8.3"
  }
 },
 "nbformat": 4,
 "nbformat_minor": 4
}
