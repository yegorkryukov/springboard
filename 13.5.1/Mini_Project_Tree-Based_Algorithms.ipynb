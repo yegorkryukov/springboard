{
 "cells": [
  {
   "cell_type": "markdown",
   "metadata": {},
   "source": [
    "# Mini Project: Tree-Based Algorithms"
   ]
  },
  {
   "cell_type": "markdown",
   "metadata": {},
   "source": [
    "## The \"German Credit\" Dataset"
   ]
  },
  {
   "cell_type": "markdown",
   "metadata": {},
   "source": [
    "### Dataset Details"
   ]
  },
  {
   "cell_type": "markdown",
   "metadata": {},
   "source": [
    "This dataset has two classes (these would be considered labels in Machine Learning terms) to describe the worthiness of a personal loan: \"Good\" or \"Bad\". There are predictors related to attributes, such as: checking account status, duration, credit history, purpose of the loan, amount of the loan, savings accounts or bonds, employment duration, installment rate in percentage of disposable income, personal information, other debtors/guarantors, residence duration, property, age, other installment plans, housing, number of existing credits, job information, number of people being liable to provide maintenance for, telephone, and foreign worker status.\n",
    "\n",
    "Many of these predictors are discrete and have been expanded into several 0/1 indicator variables (a.k.a. they have been one-hot-encoded).\n",
    "\n",
    "This dataset has been kindly provided by Professor Dr. Hans Hofmann of the University of Hamburg, and can also be found on the UCI Machine Learning Repository."
   ]
  },
  {
   "cell_type": "markdown",
   "metadata": {},
   "source": [
    "\n",
    "\n",
    "\n"
   ]
  },
  {
   "cell_type": "markdown",
   "metadata": {},
   "source": [
    "## Decision Trees"
   ]
  },
  {
   "cell_type": "markdown",
   "metadata": {},
   "source": [
    " As we have learned in the previous lectures, Decision Trees as a family of algorithms (irrespective to the particular implementation) are powerful algorithms that can produce models with a predictive accuracy higher than that produced by linear models, such as Linear or Logistic Regression. Primarily, this is due to the fact the DT's can model nonlinear relationships, and also have a number of tuning paramters, that allow for the practicioner to achieve the best possible model. An added bonus is the ability to visualize the trained Decision Tree model, which allows for some insight into how the model has produced the predictions that it has. One caveat here, to keep in mind, is that sometimes, due to the size of the dataset (both in the sense of the number of records, as well as the number of features), the visualization might prove to be very large and complex, increasing the difficulty of interpretation."
   ]
  },
  {
   "cell_type": "markdown",
   "metadata": {},
   "source": [
    "To give you a very good example of how Decision Trees can be visualized and interpreted, we would strongly recommend that, before continuing on with solving the problems in this Mini Project, you take the time to read this fanstastic, detailed and informative blog post: http://explained.ai/decision-tree-viz/index.html"
   ]
  },
  {
   "cell_type": "markdown",
   "metadata": {},
   "source": [
    "## Building Your First Decision Tree Model"
   ]
  },
  {
   "cell_type": "markdown",
   "metadata": {},
   "source": [
    "So, now it's time to jump straight into the heart of the matter. Your first task, is to build a Decision Tree model, using the aforementioned \"German Credit\" dataset, which contains 1,000 records, and 62 columns (one of them presents the labels, and the other 61 present the potential features for the model.)"
   ]
  },
  {
   "cell_type": "markdown",
   "metadata": {},
   "source": [
    "For this task, you will be using the scikit-learn library, which comes already pre-installed with the Anaconda Python distribution. In case you're not using that, you can easily install it using pip."
   ]
  },
  {
   "cell_type": "markdown",
   "metadata": {},
   "source": [
    "Before embarking on creating your first model, we would strongly encourage you to read the short tutorial for Decision Trees in scikit-learn (http://scikit-learn.org/stable/modules/tree.html), and then dive a bit deeper into the documentation of the algorithm itself (http://scikit-learn.org/stable/modules/generated/sklearn.tree.DecisionTreeClassifier.html). "
   ]
  },
  {
   "cell_type": "markdown",
   "metadata": {},
   "source": [
    "Also, since you want to be able to present the results of your model, we suggest you take a look at the tutorial for accuracy metrics for classification models (http://scikit-learn.org/stable/modules/model_evaluation.html#classification-report) as well as the more detailed documentation (http://scikit-learn.org/stable/modules/generated/sklearn.metrics.classification_report.html).\n",
    "\n",
    "Finally, an *amazing* resource that explains the various classification model accuracy metrics, as well as the relationships between them, can be found on Wikipedia: https://en.wikipedia.org/wiki/Confusion_matrix"
   ]
  },
  {
   "cell_type": "markdown",
   "metadata": {},
   "source": [
    "(Note: as you've already learned in the Logistic Regression mini project, a standard practice in Machine Learning for achieving the best possible result when training a model is to use hyperparameter tuning, through Grid Search and k-fold Cross Validation. We strongly encourage you to use it here as well, not just because it's standard practice, but also becuase it's not going to be computationally to intensive, due to the size of the dataset that you're working with. Our suggestion here is that you split the data into 70% training, and 30% testing. Then, do the hyperparameter tuning and Cross Validation on the training set, and afterwards to a final test on the testing set.)"
   ]
  },
  {
   "cell_type": "markdown",
   "metadata": {},
   "source": [
    "### Now we pass the torch onto you! You can start building your first Decision Tree model! :)"
   ]
  },
  {
   "cell_type": "code",
   "execution_count": 279,
   "metadata": {},
   "outputs": [],
   "source": [
    "import pandas as pd\n",
    "from sklearn.tree import DecisionTreeClassifier\n",
    "from sklearn.metrics import classification_report, confusion_matrix\n",
    "from sklearn.model_selection import train_test_split\n",
    "from sklearn.model_selection import GridSearchCV\n",
    "results = []"
   ]
  },
  {
   "cell_type": "code",
   "execution_count": 280,
   "metadata": {},
   "outputs": [],
   "source": [
    "data = pd.read_csv('GermanCredit.csv')\n",
    "\n",
    "X, y = data.drop('Class', axis=1), data['Class']\n",
    "\n",
    "from sklearn.preprocessing import LabelEncoder\n",
    "le = LabelEncoder()\n",
    "y_enc = le.fit_transform(y)\n",
    "\n",
    "target_names=list(le.classes_)\n",
    "\n",
    "X_train, X_test, y_train, y_test = train_test_split(X, y_enc, test_size=0.3, random_state=13)"
   ]
  },
  {
   "cell_type": "code",
   "execution_count": 281,
   "metadata": {},
   "outputs": [
    {
     "name": "stdout",
     "output_type": "stream",
     "text": [
      "Model:\n",
      "DecisionTreeClassifier() \n",
      "\n",
      "Score:  0.67\n",
      "\n",
      "Classification report:\n",
      "               precision    recall  f1-score   support\n",
      "\n",
      "         Bad       0.40      0.52      0.45        79\n",
      "        Good       0.81      0.72      0.76       221\n",
      "\n",
      "    accuracy                           0.67       300\n",
      "   macro avg       0.61      0.62      0.61       300\n",
      "weighted avg       0.70      0.67      0.68       300\n",
      "\n",
      "Confusion matrix:\n",
      " [[ 41  38]\n",
      " [ 61 160]]\n"
     ]
    }
   ],
   "source": [
    "clf = DecisionTreeClassifier()\n",
    "clf = clf.fit(X_train, y_train)\n",
    "\n",
    "def evaluate(model, X_test, y_test):\n",
    "    \"\"\"Prints scores for a model\n",
    "    \"\"\"\n",
    "    print('Model:')\n",
    "    print(model, '\\n')\n",
    "    accuracy = model.score(X_test, y_test)\n",
    "    print('Score: ', accuracy)\n",
    "\n",
    "    y_pred = model.predict(X_test)\n",
    "    print('\\nClassification report:\\n', classification_report(y_test, y_pred, target_names=target_names))\n",
    "\n",
    "    print('Confusion matrix:\\n', confusion_matrix(y_test, y_pred))\n",
    "    results.append({\n",
    "        'model'    : model,\n",
    "        'accuracy' : accuracy\n",
    "    })\n",
    "\n",
    "evaluate(clf, X_test, y_test)"
   ]
  },
  {
   "cell_type": "code",
   "execution_count": 282,
   "metadata": {},
   "outputs": [
    {
     "name": "stdout",
     "output_type": "stream",
     "text": [
      "Model:\n",
      "DecisionTreeClassifier(criterion='entropy', max_depth=6, max_features='auto') \n",
      "\n",
      "Score:  0.7633333333333333\n",
      "\n",
      "Classification report:\n",
      "               precision    recall  f1-score   support\n",
      "\n",
      "         Bad       0.56      0.48      0.52        79\n",
      "        Good       0.82      0.86      0.84       221\n",
      "\n",
      "    accuracy                           0.76       300\n",
      "   macro avg       0.69      0.67      0.68       300\n",
      "weighted avg       0.75      0.76      0.76       300\n",
      "\n",
      "Confusion matrix:\n",
      " [[ 38  41]\n",
      " [ 30 191]]\n"
     ]
    }
   ],
   "source": [
    "# Create lists of parameter for Decision Tree Classifier\n",
    "criterion = ['gini', 'entropy']\n",
    "max_depth = [4,6,8,12,24]\n",
    "max_features = ['auto', 'log2']\n",
    "splitter = ['best', 'random']\n",
    "\n",
    "# Create a dictionary of all the parameter options \n",
    "# Note has you can access the parameters of steps of a pipeline by using '__’\n",
    "parameters = dict(\n",
    "    criterion=criterion,\n",
    "    max_depth=max_depth,\n",
    "    max_features=max_features,\n",
    "    splitter=splitter\n",
    ")\n",
    "\n",
    "# Conduct Parameter Optmization With Pipeline\n",
    "# Create a grid search object\n",
    "DT = DecisionTreeClassifier()\n",
    "\n",
    "grid = GridSearchCV(DT, parameters)\n",
    "\n",
    "grid.fit(X_train, y_train)\n",
    "best_clf1 = grid.best_estimator_\n",
    "\n",
    "# View The Best Parameters\n",
    "evaluate(best_clf1, X_test, y_test)"
   ]
  },
  {
   "cell_type": "markdown",
   "metadata": {},
   "source": [
    "### After you've built the best model you can, now it's time to visualize it!"
   ]
  },
  {
   "cell_type": "markdown",
   "metadata": {},
   "source": [
    "Rememeber that amazing blog post from a few paragraphs ago, that demonstrated how to visualize and interpret the results of your Decision Tree model. We've seen that this can perform very well, but let's see how it does on the \"German Credit\" dataset that we're working on, due to it being a bit larger than the one used by the blog authors."
   ]
  },
  {
   "cell_type": "markdown",
   "metadata": {},
   "source": [
    "First, we're going to need to install their package. If you're using Anaconda, this can be done easily by running:"
   ]
  },
  {
   "cell_type": "code",
   "execution_count": null,
   "metadata": {},
   "outputs": [],
   "source": [
    "! pip install dtreeviz"
   ]
  },
  {
   "cell_type": "markdown",
   "metadata": {},
   "source": [
    "If for any reason this way of installing doesn't work for you straight out of the box, please refer to the more detailed documentation here: https://github.com/parrt/dtreeviz"
   ]
  },
  {
   "cell_type": "markdown",
   "metadata": {},
   "source": [
    "Now you're ready to visualize your Decision Tree model! Please feel free to use the blog post for guidance and inspiration!"
   ]
  },
  {
   "cell_type": "code",
   "execution_count": null,
   "metadata": {},
   "outputs": [],
   "source": [
    "from dtreeviz.trees import *"
   ]
  },
  {
   "cell_type": "code",
   "execution_count": 224,
   "metadata": {},
   "outputs": [],
   "source": [
    "viz = dtreeviz(clf,\n",
    "               X_test,\n",
    "               y_test,\n",
    "               target_name='Class',\n",
    "               feature_names=list(X.columns),\n",
    "               class_names=target_names)\n",
    "\n",
    "model_name = 'viz/DT_no_tuning.svg'\n",
    "viz.save(model_name)"
   ]
  },
  {
   "cell_type": "markdown",
   "metadata": {},
   "source": [
    "![](viz/DT_no_tuning.svg)"
   ]
  },
  {
   "cell_type": "code",
   "execution_count": 229,
   "metadata": {},
   "outputs": [],
   "source": [
    "viz = dtreeviz(best_clf1,\n",
    "               X_test,\n",
    "               y_test,\n",
    "               target_name='Class',\n",
    "               feature_names=list(X.columns),\n",
    "               class_names=target_names)\n",
    "\n",
    "model_name = 'viz/DT_tuning.svg'\n",
    "viz.save(model_name)"
   ]
  },
  {
   "cell_type": "markdown",
   "metadata": {},
   "source": [
    "![](viz/DT_tuning.svg)"
   ]
  },
  {
   "cell_type": "markdown",
   "metadata": {},
   "source": [
    "Two models of vastly different complexities are producing the same accuracy. Second model is preffered."
   ]
  },
  {
   "cell_type": "markdown",
   "metadata": {},
   "source": [
    "## Random Forests"
   ]
  },
  {
   "cell_type": "markdown",
   "metadata": {},
   "source": [
    "As discussed in the lecture videos, Decision Tree algorithms also have certain undesireable properties. Mainly the have low bias, which is good, but tend to have high variance - which is *not* so good (more about this problem here: https://en.wikipedia.org/wiki/Bias%E2%80%93variance_tradeoff)."
   ]
  },
  {
   "cell_type": "markdown",
   "metadata": {},
   "source": [
    "Noticing these problems, the late Professor Leo Breiman, in 2001, developed the Random Forests algorithm, which mitigates these problems, while at the same time providing even higher predictive accuracy than the majority of Decision Tree algorithm implementations. While the curriculum contains two excellent lectures on Random Forests, if you're interested, you can dive into the original paper here: https://link.springer.com/content/pdf/10.1023%2FA%3A1010933404324.pdf."
   ]
  },
  {
   "cell_type": "markdown",
   "metadata": {},
   "source": [
    "In the next part of this assignment, your are going to use the same \"German Credit\" dataset to train, tune, and measure the performance of a Random Forests model. You will also see certain functionalities that this model, even though it's a bit of a \"black box\", provides for some degree of interpretability."
   ]
  },
  {
   "cell_type": "markdown",
   "metadata": {},
   "source": [
    "First, let's build a Random Forests model, using the same best practices that you've used for your Decision Trees model. You can reuse the things you've already imported there, so no need to do any re-imports, new train/test splits, or loading up the data again."
   ]
  },
  {
   "cell_type": "code",
   "execution_count": 283,
   "metadata": {},
   "outputs": [
    {
     "name": "stdout",
     "output_type": "stream",
     "text": [
      "Model:\n",
      "RandomForestClassifier() \n",
      "\n",
      "Score:  0.7533333333333333\n",
      "\n",
      "Classification report:\n",
      "               precision    recall  f1-score   support\n",
      "\n",
      "         Bad       0.54      0.44      0.49        79\n",
      "        Good       0.81      0.86      0.84       221\n",
      "\n",
      "    accuracy                           0.75       300\n",
      "   macro avg       0.68      0.65      0.66       300\n",
      "weighted avg       0.74      0.75      0.75       300\n",
      "\n",
      "Confusion matrix:\n",
      " [[ 35  44]\n",
      " [ 30 191]]\n"
     ]
    }
   ],
   "source": [
    "from sklearn.ensemble import RandomForestClassifier\n",
    "\n",
    "rfc = RandomForestClassifier()\n",
    "rfc.fit(X_train, y_train)\n",
    "evaluate(rfc, X_test, y_test)"
   ]
  },
  {
   "cell_type": "markdown",
   "metadata": {},
   "source": [
    "As mentioned, there are certain ways to \"peek\" into a model created by the Random Forests algorithm. The first, and most popular one, is the Feature Importance calculation functionality. This allows the ML practitioner to see an ordering of the importance of the features that have contributed the most to the predictive accuracy of the model. \n",
    "\n",
    "You can see how to use this in the scikit-learn documentation (http://scikit-learn.org/stable/modules/generated/sklearn.ensemble.RandomForestClassifier.html#sklearn.ensemble.RandomForestClassifier.feature_importances_). Now, if you tried this, you would just get an ordered table of not directly interpretable numeric values. Thus, it's much more useful to show the feature importance in a visual way. You can see an example of how that's done here: http://scikit-learn.org/stable/auto_examples/ensemble/plot_forest_importances.html#sphx-glr-auto-examples-ensemble-plot-forest-importances-py\n",
    "\n",
    "Now you try! Let's visualize the importance of features from your Random Forests model!"
   ]
  },
  {
   "cell_type": "code",
   "execution_count": 234,
   "metadata": {},
   "outputs": [
    {
     "name": "stdout",
     "output_type": "stream",
     "text": [
      "Feature ranking:\n",
      "1. feature 1 (0.099358)\n",
      "2. feature 0 (0.085316)\n",
      "3. feature 4 (0.081042)\n",
      "4. feature 12 (0.053614)\n",
      "5. feature 9 (0.039572)\n",
      "6. feature 3 (0.032510)\n",
      "7. feature 2 (0.031153)\n",
      "8. feature 29 (0.023676)\n",
      "9. feature 13 (0.020182)\n",
      "10. feature 59 (0.018835)\n",
      "11. feature 5 (0.017796)\n",
      "12. feature 18 (0.017627)\n",
      "13. feature 17 (0.017516)\n",
      "14. feature 10 (0.017452)\n",
      "15. feature 21 (0.017010)\n",
      "16. feature 41 (0.016830)\n",
      "17. feature 49 (0.015915)\n",
      "18. feature 33 (0.015635)\n",
      "19. feature 53 (0.015469)\n",
      "20. feature 7 (0.015129)\n",
      "21. feature 20 (0.015081)\n",
      "22. feature 40 (0.014937)\n",
      "23. feature 15 (0.014925)\n",
      "24. feature 35 (0.014582)\n",
      "25. feature 47 (0.013832)\n",
      "26. feature 48 (0.013682)\n",
      "27. feature 60 (0.013682)\n",
      "28. feature 55 (0.013608)\n",
      "29. feature 34 (0.013143)\n",
      "30. feature 54 (0.012743)\n",
      "31. feature 14 (0.012643)\n",
      "32. feature 37 (0.012427)\n",
      "33. feature 51 (0.012401)\n",
      "34. feature 58 (0.012363)\n",
      "35. feature 6 (0.010207)\n",
      "36. feature 36 (0.009900)\n",
      "37. feature 19 (0.009885)\n",
      "38. feature 50 (0.009558)\n",
      "39. feature 27 (0.009429)\n",
      "40. feature 44 (0.008834)\n",
      "41. feature 52 (0.008259)\n",
      "42. feature 16 (0.008206)\n",
      "43. feature 39 (0.007934)\n",
      "44. feature 42 (0.007824)\n",
      "45. feature 24 (0.007589)\n",
      "46. feature 30 (0.007137)\n",
      "47. feature 38 (0.007019)\n",
      "48. feature 56 (0.006317)\n",
      "49. feature 11 (0.006153)\n",
      "50. feature 23 (0.005575)\n",
      "51. feature 46 (0.005345)\n",
      "52. feature 32 (0.005271)\n",
      "53. feature 45 (0.005020)\n",
      "54. feature 31 (0.004748)\n",
      "55. feature 57 (0.002628)\n",
      "56. feature 8 (0.002596)\n",
      "57. feature 28 (0.001283)\n",
      "58. feature 22 (0.000989)\n",
      "59. feature 26 (0.000613)\n",
      "60. feature 43 (0.000000)\n",
      "61. feature 25 (0.000000)\n"
     ]
    },
    {
     "data": {
      "image/png": "[encoded data removed]",
      "text/plain": [
       "<Figure size 1152x576 with 1 Axes>"
      ]
     },
     "metadata": {
      "needs_background": "light"
     },
     "output_type": "display_data"
    }
   ],
   "source": [
    "importances = rfc.feature_importances_\n",
    "std = np.std([tree.feature_importances_ for tree in rfc.estimators_],\n",
    "             axis=0)\n",
    "indices = np.argsort(importances)[::-1]\n",
    "\n",
    "print(\"Feature ranking:\")\n",
    "\n",
    "for f in range(X.shape[1]):\n",
    "    print(\"%d. feature %d (%f)\" % (f + 1, indices[f], importances[indices[f]]))\n",
    "\n",
    "# Plot the impurity-based feature importances of the forest\n",
    "plt.figure(figsize=(16,8))\n",
    "plt.title(\"Feature importances\")\n",
    "plt.bar(range(X.shape[1]), importances[indices],\n",
    "        color=\"r\", yerr=std[indices], align=\"center\")\n",
    "plt.xticks(range(X.shape[1]), indices)\n",
    "plt.xlim([-1, X.shape[1]])\n",
    "plt.show()"
   ]
  },
  {
   "cell_type": "markdown",
   "metadata": {},
   "source": [
    "A final method for gaining some insight into the inner working of your Random Forests models is a so-called Partial Dependence Plot. The Partial Dependence Plot (PDP or PD plot) shows the marginal effect of a feature on the predicted outcome of a previously fit model. The prediction function is fixed at a few values of the chosen features and averaged over the other features. A partial dependence plot can show if the relationship between the target and a feature is linear, monotonic or more complex. \n",
    "\n",
    "In scikit-learn, PDPs are implemented and available for certain algorithms, but at this point (version 0.20.0) they are not yet implemented for Random Forests. Thankfully, there is an add-on package called **PDPbox** (https://pdpbox.readthedocs.io/en/latest/) which adds this functionality to Random Forests. The package is easy to install through pip."
   ]
  },
  {
   "cell_type": "code",
   "execution_count": null,
   "metadata": {},
   "outputs": [],
   "source": [
    "! pip install pdpbox"
   ]
  },
  {
   "cell_type": "markdown",
   "metadata": {},
   "source": [
    "While we encourage you to read the documentation for the package (and reading package documentation in general is a good habit to develop), the authors of the package have also written an excellent blog post on how to use it, showing examples on different algorithms from scikit-learn (the Random Forests example is towards the end of the blog post): https://briangriner.github.io/Partial_Dependence_Plots_presentation-BrianGriner-PrincetonPublicLibrary-4.14.18-updated-4.22.18.html"
   ]
  },
  {
   "cell_type": "markdown",
   "metadata": {},
   "source": [
    "So, armed with this new knowledge, feel free to pick a few features, and make a couple of Partial Dependence Plots of your own!"
   ]
  },
  {
   "cell_type": "code",
   "execution_count": 254,
   "metadata": {},
   "outputs": [
    {
     "data": {
      "text/plain": [
       "['Duration',\n",
       " 'Amount',\n",
       " 'InstallmentRatePercentage',\n",
       " 'ResidenceDuration',\n",
       " 'Age',\n",
       " 'NumberExistingCredits',\n",
       " 'NumberPeopleMaintenance',\n",
       " 'Telephone',\n",
       " 'ForeignWorker',\n",
       " 'CheckingAccountStatus.lt.0',\n",
       " 'CheckingAccountStatus.0.to.200',\n",
       " 'CheckingAccountStatus.gt.200',\n",
       " 'CheckingAccountStatus.none',\n",
       " 'CreditHistory.NoCredit.AllPaid',\n",
       " 'CreditHistory.ThisBank.AllPaid',\n",
       " 'CreditHistory.PaidDuly',\n",
       " 'CreditHistory.Delay',\n",
       " 'CreditHistory.Critical',\n",
       " 'Purpose.NewCar',\n",
       " 'Purpose.UsedCar',\n",
       " 'Purpose.Furniture.Equipment',\n",
       " 'Purpose.Radio.Television',\n",
       " 'Purpose.DomesticAppliance',\n",
       " 'Purpose.Repairs',\n",
       " 'Purpose.Education',\n",
       " 'Purpose.Vacation',\n",
       " 'Purpose.Retraining',\n",
       " 'Purpose.Business',\n",
       " 'Purpose.Other',\n",
       " 'SavingsAccountBonds.lt.100',\n",
       " 'SavingsAccountBonds.100.to.500',\n",
       " 'SavingsAccountBonds.500.to.1000',\n",
       " 'SavingsAccountBonds.gt.1000',\n",
       " 'SavingsAccountBonds.Unknown',\n",
       " 'EmploymentDuration.lt.1',\n",
       " 'EmploymentDuration.1.to.4',\n",
       " 'EmploymentDuration.4.to.7',\n",
       " 'EmploymentDuration.gt.7',\n",
       " 'EmploymentDuration.Unemployed',\n",
       " 'Personal.Male.Divorced.Seperated',\n",
       " 'Personal.Female.NotSingle',\n",
       " 'Personal.Male.Single',\n",
       " 'Personal.Male.Married.Widowed',\n",
       " 'Personal.Female.Single',\n",
       " 'OtherDebtorsGuarantors.None',\n",
       " 'OtherDebtorsGuarantors.CoApplicant',\n",
       " 'OtherDebtorsGuarantors.Guarantor',\n",
       " 'Property.RealEstate',\n",
       " 'Property.Insurance',\n",
       " 'Property.CarOther',\n",
       " 'Property.Unknown',\n",
       " 'OtherInstallmentPlans.Bank',\n",
       " 'OtherInstallmentPlans.Stores',\n",
       " 'OtherInstallmentPlans.None',\n",
       " 'Housing.Rent',\n",
       " 'Housing.Own',\n",
       " 'Housing.ForFree',\n",
       " 'Job.UnemployedUnskilled',\n",
       " 'Job.UnskilledResident',\n",
       " 'Job.SkilledEmployee',\n",
       " 'Job.Management.SelfEmp.HighlyQualified']"
      ]
     },
     "execution_count": 254,
     "metadata": {},
     "output_type": "execute_result"
    }
   ],
   "source": [
    "list(X.columns)"
   ]
  },
  {
   "cell_type": "code",
   "execution_count": 257,
   "metadata": {},
   "outputs": [],
   "source": [
    "import pdpbox\n",
    "from pdpbox import pdp\n",
    "pdp_pedi = pdp.pdp_interact(\n",
    "    rfc, \n",
    "    X_train, \n",
    "    model_features=list(X.columns), \n",
    "    features=['Age','Amount'],\n",
    "    n_jobs=8\n",
    ")"
   ]
  },
  {
   "cell_type": "code",
   "execution_count": 263,
   "metadata": {},
   "outputs": [
    {
     "data": {
      "image/png": "[encoded data removed]",
      "text/plain": [
       "<Figure size 756x900 with 5 Axes>"
      ]
     },
     "metadata": {
      "needs_background": "light"
     },
     "output_type": "display_data"
    }
   ],
   "source": [
    "pdp.pdp_interact_plot(\n",
    "    pdp_pedi, \n",
    "    ['Age','Amount'],\n",
    "    plot_type='grid',\n",
    "    plot_pdp=True\n",
    ")\n",
    "plt.show()"
   ]
  },
  {
   "cell_type": "markdown",
   "metadata": {},
   "source": [
    "## (Optional) Advanced Boosting-Based Algorithms"
   ]
  },
  {
   "cell_type": "markdown",
   "metadata": {},
   "source": [
    "As explained in the video lectures, the next generation of algorithms after Random Forests (that use Bagging, a.k.a. Bootstrap Aggregation) were developed using Boosting, and the first one of these were Gradient Boosted Machines, which are implemented in scikit-learn (http://scikit-learn.org/stable/modules/ensemble.html#gradient-tree-boosting)."
   ]
  },
  {
   "cell_type": "markdown",
   "metadata": {},
   "source": [
    "Still, in recent years, a number of variations on GBMs have been developed by different research amd industry groups, all of them bringing improvements, both in speed, accuracy and functionality to the original Gradient Boosting algorithms.\n",
    "\n",
    "In no order of preference, these are:\n",
    "1. **XGBoost**: https://xgboost.readthedocs.io/en/latest/\n",
    "2. **CatBoost**: https://tech.yandex.com/catboost/\n",
    "3. **LightGBM**: https://lightgbm.readthedocs.io/en/latest/"
   ]
  },
  {
   "cell_type": "markdown",
   "metadata": {},
   "source": [
    "If you're using the Anaconda distribution, these are all very easy to install:"
   ]
  },
  {
   "cell_type": "code",
   "execution_count": null,
   "metadata": {},
   "outputs": [],
   "source": [
    "! conda install -c anaconda py-xgboost"
   ]
  },
  {
   "cell_type": "code",
   "execution_count": null,
   "metadata": {},
   "outputs": [],
   "source": [
    "! conda install -c conda-forge catboost"
   ]
  },
  {
   "cell_type": "code",
   "execution_count": null,
   "metadata": {},
   "outputs": [],
   "source": [
    "! conda install -c conda-forge lightgbm"
   ]
  },
  {
   "cell_type": "markdown",
   "metadata": {},
   "source": [
    "Your task in this optional section of the mini project is to read the documentation of these three libraries, and apply all of them to the \"German Credit\" dataset, just like you did in the case of Decision Trees and Random Forests."
   ]
  },
  {
   "cell_type": "markdown",
   "metadata": {},
   "source": [
    "The final deliverable of this section should be a table (can be a pandas DataFrame) which shows the accuracy of all the five algorthms taught in this mini project in one place."
   ]
  },
  {
   "cell_type": "markdown",
   "metadata": {},
   "source": [
    "Happy modeling! :)"
   ]
  },
  {
   "cell_type": "code",
   "execution_count": 288,
   "metadata": {},
   "outputs": [
    {
     "name": "stdout",
     "output_type": "stream",
     "text": [
      "Model description: \n",
      " DecisionTreeClassifier()\n",
      "Accuracy:  0.67 \n",
      "\n",
      "Model description: \n",
      " DecisionTreeClassifier(criterion='entropy', max_depth=6, max_features='auto')\n",
      "Accuracy:  0.7633333333333333 \n",
      "\n",
      "Model description: \n",
      " RandomForestClassifier()\n",
      "Accuracy:  0.7533333333333333 \n",
      "\n"
     ]
    }
   ],
   "source": [
    "for _ in results:\n",
    "    print('Model description: \\n', _['model'])\n",
    "    print('Accuracy: ', _['accuracy'], '\\n')"
   ]
  }
 ],
 "metadata": {
  "kernelspec": {
   "display_name": "Python 3.8.3 64-bit ('springboard': conda)",
   "language": "python",
   "name": "python38364bitspringboardconda8eec40d942e84bf0a5a0c76aa15b276b"
  },
  "language_info": {
   "codemirror_mode": {
    "name": "ipython",
    "version": 3
   },
   "file_extension": ".py",
   "mimetype": "text/x-python",
   "name": "python",
   "nbconvert_exporter": "python",
   "pygments_lexer": "ipython3",
   "version": "3.8.3"
  }
 },
 "nbformat": 4,
 "nbformat_minor": 2
}
