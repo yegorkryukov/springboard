{
 "cells": [
  {
   "cell_type": "markdown",
   "metadata": {},
   "source": [
    "# Get URLs from reddit"
   ]
  },
  {
   "cell_type": "code",
   "execution_count": 42,
   "metadata": {},
   "outputs": [
    {
     "name": "stdout",
     "output_type": "stream",
     "text": [
      "<class 'pandas.core.frame.DataFrame'>\n",
      "RangeIndex: 32399 entries, 0 to 32398\n",
      "Data columns (total 4 columns):\n",
      " #   Column       Non-Null Count  Dtype  \n",
      "---  ------       --------------  -----  \n",
      " 0   created_utc  32399 non-null  int64  \n",
      " 1   url          32399 non-null  object \n",
      " 2   created      32399 non-null  float64\n",
      " 3   d_           32399 non-null  object \n",
      "dtypes: float64(1), int64(1), object(2)\n",
      "memory usage: 1012.6+ KB\n"
     ]
    }
   ],
   "source": [
    "import datetime as dt\n",
    "from psaw import PushshiftAPI\n",
    "import pandas as pd\n",
    "\n",
    "start_date = int(dt.datetime(2015, 1, 1).timestamp())\n",
    "# end_date = int(dt.datetime(2020, 7, 1).timestamp())\n",
    "subreddit = 'usanews'\n",
    "\n",
    "api = PushshiftAPI()\n",
    "\n",
    "data = pd.DataFrame(api.search_submissions(after=start_date,\n",
    "                            subreddit='usanews',\n",
    "                            filter=['url']))\n",
    "data.info()"
   ]
  },
  {
   "cell_type": "code",
   "execution_count": 43,
   "metadata": {},
   "outputs": [],
   "source": [
    "data.url.to_csv('media/usanews_2015_2020.csv')"
   ]
  },
  {
   "cell_type": "markdown",
   "metadata": {},
   "source": [
    "# Process URLs"
   ]
  },
  {
   "cell_type": "code",
   "execution_count": null,
   "metadata": {},
   "outputs": [],
   "source": []
  },
  {
   "cell_type": "code",
   "execution_count": null,
   "metadata": {},
   "outputs": [],
   "source": []
  },
  {
   "cell_type": "markdown",
   "metadata": {},
   "source": [
    "# Clean"
   ]
  },
  {
   "cell_type": "code",
   "execution_count": null,
   "metadata": {},
   "outputs": [],
   "source": [
    "def clean_and_tokenize_text(text):\n",
    "    \"\"\"\n",
    "    Cleans `text` from punctuation and special symbols\n",
    "    \"\"\"    \n",
    "    # need to adjust this for better cleaning\n",
    "    from nltk.tokenize import word_tokenize\n",
    "    from nltk.stem import WordNetLemmatizer\n",
    "    from nltk.corpus import stopwords\n",
    "\n",
    "    lower_alpha_tokens = [w for w in word_tokenize(text.lower()) if w.isalpha()]\n",
    "    no_stop = [t for t in lower_alpha_tokens if t not in set(stopwords.words('english'))]\n",
    "    \n",
    "    wnl = WordNetLemmatizer()\n",
    "    lemmatized = [wnl.lemmatize(t) for t in no_stop]\n",
    "    return lemmatized\n",
    "\n",
    "def quality_check(article):\n",
    "    \"\"\"\n",
    "    Checks for quality of the `article` and returns False if it doesnt' pass the \n",
    "    QA check\n",
    "    \"\"\"\n",
    "    \n",
    "    # need to find ways for better QA\n",
    "    if article and len(article) > 150: return True\n",
    "    return False\n",
    "\n",
    "def concat_news(ticker, period=1):\n",
    "    \"\"\"\n",
    "    Reads all news from the `DB` for the `ticker`, \n",
    "    concats by the `period`.\n",
    "    \n",
    "    Input\n",
    "    -----\n",
    "    period: int, default 1 (day)\n",
    "    \n",
    "    Output\n",
    "    ------\n",
    "    resulting_dictionary: dict, key–day, value–all news for that day\n",
    "    Counter(all_tokens)\n",
    "    \"\"\"\n",
    "    from collections import Counter\n",
    "    \n",
    "    news = collection.find_one({\n",
    "        'ticker' : ticker\n",
    "    })['news']\n",
    "    \n",
    "    resulting_dictionary = {}\n",
    "    \n",
    "    all_tokens = []\n",
    "    \n",
    "    for n in news:\n",
    "        try:\n",
    "            date = str(pd.to_datetime(n['datetime']).date())\n",
    "\n",
    "            tokens = clean_and_tokenize_text(n['text'])\n",
    "\n",
    "            text = ' '.join(tokens)\n",
    "\n",
    "            all_tokens.extend(tokens)\n",
    "\n",
    "            if quality_check(text):\n",
    "                if date in resulting_dictionary.keys():\n",
    "                    resulting_dictionary[date] = resulting_dictionary[date] + text\n",
    "                else:\n",
    "                    resulting_dictionary[date] = text\n",
    "        except Exception as e:\n",
    "            print(f\"Cannot process url: {n['url']}\\nError: {e}\")\n",
    "    \n",
    "    return resulting_dictionary, Counter(all_tokens)"
   ]
  },
  {
   "cell_type": "code",
   "execution_count": null,
   "metadata": {},
   "outputs": [],
   "source": [
    "def collect_yahoo_news_urls(ticker):\n",
    "    \"\"\"Grabs news URLs from Yahoo news.\n",
    "    \n",
    "    Parameters\n",
    "    ----------\n",
    "    ticker: str, ticker symbol to collect news for\n",
    "    \n",
    "    Output\n",
    "    ------\n",
    "    url: list, list of URLs\n",
    "    \"\"\"\n",
    "    \n",
    "    from selenium import webdriver\n",
    "    import time\n",
    "    from random import randint\n",
    "    from selenium.webdriver.firefox.options import Options\n",
    "\n",
    "    js = \"\"\"var scrollingElement = (document.scrollingElement || document.body);\n",
    "                    scrollingElement.scrollTop = scrollingElement.scrollHeight;\"\"\"\n",
    "\n",
    "    url = f'https://finance.yahoo.com/quote/{ticker}'\n",
    "    urls_list = set()\n",
    "    \n",
    "    try: \n",
    "        options = Options()\n",
    "        options.add_argument(\"--headless\")\n",
    "        browser = webdriver.Firefox(options=options, executable_path=r'geckodriver')\n",
    "        browser.get(url)\n",
    "        logging.info(f'Headless Firefox Initialized for URL: {url}')\n",
    "        browser.execute_script(js)\n",
    "        time.sleep(randint(1,10))\n",
    "        items_list = browser.find_elements_by_xpath('//h3/a')\n",
    "        num_of_items = 0\n",
    "        while num_of_items != len(items_list):\n",
    "            num_of_items = len(items_list)\n",
    "            browser.execute_script(js)\n",
    "            time.sleep(randint(3,5))\n",
    "            items_list = browser.find_elements_by_xpath('//h3/a')\n",
    "\n",
    "        logging.info(f'Found {len(items_list)} urls for {ticker}')\n",
    "\n",
    "        for item in items_list:\n",
    "            urls_list.add(item.get_attribute('href'))\n",
    "\n",
    "        logging.debug(f'Found {len(urls_list)} urls.')\n",
    "    except Exception as e:\n",
    "        logging.info(f'Extracting URLs failed. Error:\\n{e}')\n",
    "\n",
    "    browser.quit()\n",
    "    return list(urls_list)"
   ]
  },
  {
   "cell_type": "code",
   "execution_count": null,
   "metadata": {},
   "outputs": [],
   "source": [
    "import logging\n",
    "import sys\n",
    "\n",
    "logger = logging.getLogger(__name__)\n",
    "c_handler = logging.StreamHandler()\n",
    "c_handler.setLevel(logging.INFO)\n",
    "c_handler.setFormatter(logging.Formatter('%(asctime)s| %(message)s')) \n",
    "logger.addHandler(c_handler)\n",
    "\n",
    "# logging.info('testing')\n",
    "ticker = 'AAPL'\n",
    "t_urls = collect_news_urls(ticker)\n",
    "t_urls[:5]"
   ]
  },
  {
   "cell_type": "code",
   "execution_count": null,
   "metadata": {},
   "outputs": [],
   "source": [
    "import pandas as pd\n",
    "pd.read_csv('media/AAPL.txt')"
   ]
  },
  {
   "cell_type": "code",
   "execution_count": null,
   "metadata": {},
   "outputs": [],
   "source": [
    "from yahoo_fin import stock_info as si \n",
    "import pymongo as pm\n",
    "import pandas as pd\n",
    "from datetime import date\n",
    "\n",
    "# create dataset for predicting pricing for a company\n",
    "\n",
    "# set the company ticker\n",
    "ticker = 'AAPL'\n",
    "\n",
    "# set interval\n",
    "start_date = '01/01/2019'\n",
    "end_date = date.today()\n",
    "\n",
    "# obtain historical stock pricing data\n",
    "t_data = si.get_data(ticker, start_date=start_date, end_date=end_date)\n",
    "\n",
    "# Start MongoDB\n",
    "# !brew services start mongodb-community@4.2\n",
    "\n",
    "# Stop MongoDB\n",
    "# !brew services stop mongodb-community@4.2\n",
    "\n",
    "# connect to DB\n",
    "client = pm.MongoClient('mongodb://localhost:27017')\n",
    "collection = client['news']['recommendations']\n",
    "\n",
    "# get the dictionary with all news per period (1 day) and BOW (bag of words)\n",
    "t_news, t_bow = concat_news(ticker, period=1)\n",
    "\n",
    "# convert to pandas df\n",
    "t_df = pd.DataFrame.from_dict(d, orient='index', columns=['text'])\n",
    "t_df.index = pd.to_datetime(t_df.index)\n",
    "\n",
    "# combine news with stock price 'adjclose'\n",
    "t_combined = pd.concat([t_df, t_data.adjclose], axis=1)\n",
    "\n",
    "# fill adjclose for over the weekends and holiday\n",
    "# logic is the price on monday close is the result of \n",
    "# the news over the weekend hence backfill\n",
    "t_combined.adjclose = t_combined.adjclose.fillna(method='backfill')\n",
    "\n",
    "# drop rows without the stock price\n",
    "t_combined = t_combined[t_combined.adjclose.notna()]\n",
    "t_combined.tail(20)"
   ]
  },
  {
   "cell_type": "code",
   "execution_count": null,
   "metadata": {},
   "outputs": [],
   "source": [
    "t_combined.to_csv(f'to_predict/{ticker}.csv', index_label='date')"
   ]
  },
  {
   "cell_type": "code",
   "execution_count": null,
   "metadata": {},
   "outputs": [],
   "source": []
  }
 ],
 "metadata": {
  "kernelspec": {
   "display_name": "Python 3.8.3 64-bit ('springboard': conda)",
   "language": "python",
   "name": "python38364bitspringboardconda8eec40d942e84bf0a5a0c76aa15b276b"
  },
  "language_info": {
   "codemirror_mode": {
    "name": "ipython",
    "version": 3
   },
   "file_extension": ".py",
   "mimetype": "text/x-python",
   "name": "python",
   "nbconvert_exporter": "python",
   "pygments_lexer": "ipython3",
   "version": "3.8.3"
  }
 },
 "nbformat": 4,
 "nbformat_minor": 4
}
