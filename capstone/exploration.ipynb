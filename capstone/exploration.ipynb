{
 "cells": [
  {
   "cell_type": "code",
   "execution_count": 1,
   "metadata": {},
   "outputs": [
    {
     "name": "stderr",
     "output_type": "stream",
     "text": [
      "/Users/yegor/anaconda3/envs/springboard/lib/python3.8/site-packages/pandas_datareader/compat/__init__.py:7: FutureWarning: pandas.util.testing is deprecated. Use the functions in the public API at pandas.testing instead.\n",
      "  from pandas.util.testing import assert_frame_equal\n"
     ]
    }
   ],
   "source": [
    "import pymongo as pm\n",
    "import requests\n",
    "import pandas as pd \n",
    "pd.options.plotting.backend = \"plotly\"\n",
    "# yahoo_fin documentation: https://theautomatic.net/yahoo_fin-documentation/\n",
    "from yahoo_fin import stock_info as si \n",
    "from pandas_datareader import DataReader\n",
    "import numpy as np\n",
    "\n",
    "from urllib.request import urlopen, Request\n",
    "from bs4 import BeautifulSoup\n",
    "import os\n",
    "import matplotlib.pyplot as plt\n",
    "%matplotlib inline\n",
    "from nltk.sentiment.vader import SentimentIntensityAnalyzer\n",
    "\n",
    "import plotly.graph_objects as go"
   ]
  },
  {
   "cell_type": "code",
   "execution_count": 2,
   "metadata": {},
   "outputs": [],
   "source": [
    "from datetime import date\n",
    "from newspaper import Article"
   ]
  },
  {
   "cell_type": "code",
   "execution_count": 4,
   "metadata": {},
   "outputs": [
    {
     "name": "stderr",
     "output_type": "stream",
     "text": [
      "[nltk_data] Downloading package vader_lexicon to\n",
      "[nltk_data]     /Users/yegor/nltk_data...\n",
      "[nltk_data]   Package vader_lexicon is already up-to-date!\n",
      "[nltk_data] Downloading package punkt to /Users/yegor/nltk_data...\n",
      "[nltk_data]   Package punkt is already up-to-date!\n"
     ]
    },
    {
     "data": {
      "text/plain": [
       "True"
      ]
     },
     "execution_count": 4,
     "metadata": {},
     "output_type": "execute_result"
    }
   ],
   "source": [
    "import nltk\n",
    "# need to do once for vader to work\n",
    "nltk.download('vader_lexicon')\n",
    "# need to do once for newspaper to work\n",
    "nltk.download('punkt')"
   ]
  },
  {
   "cell_type": "code",
   "execution_count": 3,
   "metadata": {},
   "outputs": [],
   "source": [
    "import plotly.io as pio\n",
    "# check available plotly renderers\n",
    "pio.renderers\n",
    "\n",
    "# set pandas plotting backend to plotly\n",
    "pd.options.plotting.backend = \"plotly\"\n",
    "\n",
    "# options for plotly to work in the notebook\n",
    "pio.renderers.default = 'notebook'"
   ]
  },
  {
   "cell_type": "code",
   "execution_count": 4,
   "metadata": {},
   "outputs": [],
   "source": [
    "def plot_ticker_data(ticker_data, xaxis_rangeslider_visible=True):\n",
    "    \"\"\"\n",
    "    Plot candelstick\n",
    "    \"\"\"\n",
    "    \n",
    "    fig = go.Figure(data=[go.Candlestick(\n",
    "        x=ticker_data.index,\n",
    "        open=ticker_data.open,\n",
    "        high=ticker_data.high,\n",
    "        low=ticker_data.low,\n",
    "        close=ticker_data.close,\n",
    "#         increasing_line_color= 'blue', \n",
    "#         decreasing_line_color= 'red'\n",
    "    )])\n",
    "\n",
    "    # uncomment below to remove rangeslider\n",
    "    fig.update_layout(xaxis_rangeslider_visible=xaxis_rangeslider_visible)\n",
    "\n",
    "#     fig.show()\n",
    "    return fig"
   ]
  },
  {
   "cell_type": "code",
   "execution_count": null,
   "metadata": {},
   "outputs": [],
   "source": [
    "ticker = 'MSFT'\n",
    "start_date = '01/01/2015'\n",
    "end_date = '05/31/2020'\n",
    "ticker_data = si.get_data(ticker, start_date=start_date, end_date=end_date)\n",
    "plot_ticker_data(ticker_data)"
   ]
  },
  {
   "cell_type": "code",
   "execution_count": 5,
   "metadata": {},
   "outputs": [
    {
     "name": "stdout",
     "output_type": "stream",
     "text": [
      "Service `mongodb-community` already started, use `brew services restart mongodb-community` to restart.\r\n"
     ]
    }
   ],
   "source": [
    "# Start MongoDB\n",
    "!brew services start mongodb-community@4.2"
   ]
  },
  {
   "cell_type": "code",
   "execution_count": null,
   "metadata": {},
   "outputs": [],
   "source": [
    "# Stop MongoDB\n",
    "!brew services stop mongodb-community@4.2"
   ]
  },
  {
   "cell_type": "code",
   "execution_count": 6,
   "metadata": {},
   "outputs": [],
   "source": [
    "def get_recommendation(ticker):\n",
    "    \"\"\"\n",
    "    Obtaines yahoo recommendations for a 'ticker'\n",
    "    \"\"\"\n",
    "    lhs_url = 'https://query2.finance.yahoo.com/v10/finance/quoteSummary/'\n",
    "    rhs_url = '?formatted=true&crumb=swg7qs5y9UP&lang=en-US&region=US&' \\\n",
    "              'modules=upgradeDowngradeHistory,recommendationTrend,' \\\n",
    "              'financialData,earningsHistory,earningsTrend,industryTrend&' \\\n",
    "              'corsDomain=finance.yahoo.com'\n",
    "              \n",
    "    url =  lhs_url + ticker + rhs_url\n",
    "    r = requests.get(url)\n",
    "    if not r.ok:\n",
    "        recommendation = 6\n",
    "    try:\n",
    "        result = r.json()['quoteSummary']['result'][0]\n",
    "        recommendation =result['financialData']['recommendationMean']['fmt']\n",
    "    except:\n",
    "        recommendation = 6\n",
    "    \n",
    "    return recommendation"
   ]
  },
  {
   "cell_type": "code",
   "execution_count": 7,
   "metadata": {},
   "outputs": [],
   "source": [
    "def get_and_store_recommendations(ticker, dt=None):\n",
    "    \"\"\"\n",
    "    Retrieves yahoo recommendations for a 'ticker' and stores to MongoDB avoiding duplicates\n",
    "    \"\"\"\n",
    "    client = pm.MongoClient('mongodb://localhost:27017')\n",
    "    collection = client['news']['recommendations']\n",
    "    \n",
    "    day = date.today().strftime('%Y-%m-%d') if dt is None else dt\n",
    "\n",
    "    doc = {\n",
    "        'recommendations': {\n",
    "            'date' : day,\n",
    "            'recommendation' : get_recommendation(ticker)\n",
    "        }\n",
    "    }\n",
    "    \n",
    "    collection.update_one(\n",
    "        {'ticker' : ticker},\n",
    "        {'$addToSet': doc},\n",
    "        upsert = True\n",
    "    )\n",
    "    print(f\"Saved {ticker}: {doc}\")\n",
    "    return doc"
   ]
  },
  {
   "cell_type": "code",
   "execution_count": null,
   "metadata": {},
   "outputs": [],
   "source": [
    "# the multiprocessing doesn't work in Jupyter, so need to launch from the console\n",
    "# takes about 5 hours\n",
    "! python scrape_news.py"
   ]
  },
  {
   "cell_type": "code",
   "execution_count": 8,
   "metadata": {},
   "outputs": [],
   "source": [
    "# get the SP500 list\n",
    "tickers = si.tickers_sp500()"
   ]
  },
  {
   "cell_type": "code",
   "execution_count": 9,
   "metadata": {},
   "outputs": [
    {
     "name": "stdout",
     "output_type": "stream",
     "text": [
      "Saved A: {'recommendations': {'date': '2020-06-04', 'recommendation': '2.20'}}\n",
      "Saved AAL: {'recommendations': {'date': '2020-06-04', 'recommendation': '3.30'}}\n",
      "Saved AAP: {'recommendations': {'date': '2020-06-04', 'recommendation': '2.30'}}\n",
      "Saved AAPL: {'recommendations': {'date': '2020-06-04', 'recommendation': '2.00'}}\n",
      "Saved ABBV: {'recommendations': {'date': '2020-06-04', 'recommendation': '2.10'}}\n",
      "Saved ABC: {'recommendations': {'date': '2020-06-04', 'recommendation': '2.40'}}\n",
      "Saved ABMD: {'recommendations': {'date': '2020-06-04', 'recommendation': '2.30'}}\n",
      "Saved ABT: {'recommendations': {'date': '2020-06-04', 'recommendation': '1.90'}}\n",
      "Saved ACN: {'recommendations': {'date': '2020-06-04', 'recommendation': '2.10'}}\n",
      "Saved ADBE: {'recommendations': {'date': '2020-06-04', 'recommendation': '2.00'}}\n",
      "Saved ADI: {'recommendations': {'date': '2020-06-04', 'recommendation': '2.00'}}\n",
      "Saved ADM: {'recommendations': {'date': '2020-06-04', 'recommendation': '2.10'}}\n",
      "Saved ADP: {'recommendations': {'date': '2020-06-04', 'recommendation': '2.70'}}\n",
      "Saved ADS: {'recommendations': {'date': '2020-06-04', 'recommendation': '2.30'}}\n",
      "Saved ADSK: {'recommendations': {'date': '2020-06-04', 'recommendation': '2.30'}}\n",
      "Saved AEE: {'recommendations': {'date': '2020-06-04', 'recommendation': '1.90'}}\n",
      "Saved AEP: {'recommendations': {'date': '2020-06-04', 'recommendation': '2.30'}}\n",
      "Saved AES: {'recommendations': {'date': '2020-06-04', 'recommendation': '1.90'}}\n",
      "Saved AFL: {'recommendations': {'date': '2020-06-04', 'recommendation': '3.10'}}\n",
      "Saved AIG: {'recommendations': {'date': '2020-06-04', 'recommendation': '2.60'}}\n",
      "Saved AIV: {'recommendations': {'date': '2020-06-04', 'recommendation': '2.80'}}\n",
      "Saved AIZ: {'recommendations': {'date': '2020-06-04', 'recommendation': '1.70'}}\n",
      "Saved AJG: {'recommendations': {'date': '2020-06-04', 'recommendation': '1.90'}}\n",
      "Saved AKAM: {'recommendations': {'date': '2020-06-04', 'recommendation': '2.20'}}\n",
      "Saved ALB: {'recommendations': {'date': '2020-06-04', 'recommendation': '2.90'}}\n",
      "Saved ALGN: {'recommendations': {'date': '2020-06-04', 'recommendation': '1.90'}}\n",
      "Saved ALK: {'recommendations': {'date': '2020-06-04', 'recommendation': '2.10'}}\n",
      "Saved ALL: {'recommendations': {'date': '2020-06-04', 'recommendation': '2.30'}}\n",
      "Saved ALLE: {'recommendations': {'date': '2020-06-04', 'recommendation': '3.10'}}\n",
      "Saved ALXN: {'recommendations': {'date': '2020-06-04', 'recommendation': '2.10'}}\n",
      "Saved AMAT: {'recommendations': {'date': '2020-06-04', 'recommendation': '2.10'}}\n",
      "Saved AMCR: {'recommendations': {'date': '2020-06-04', 'recommendation': '2.50'}}\n",
      "Saved AMD: {'recommendations': {'date': '2020-06-04', 'recommendation': '2.40'}}\n",
      "Saved AME: {'recommendations': {'date': '2020-06-04', 'recommendation': '1.90'}}\n",
      "Saved AMGN: {'recommendations': {'date': '2020-06-04', 'recommendation': '2.20'}}\n",
      "Saved AMP: {'recommendations': {'date': '2020-06-04', 'recommendation': '1.90'}}\n",
      "Saved AMT: {'recommendations': {'date': '2020-06-04', 'recommendation': '1.90'}}\n",
      "Saved AMZN: {'recommendations': {'date': '2020-06-04', 'recommendation': '1.70'}}\n",
      "Saved ANET: {'recommendations': {'date': '2020-06-04', 'recommendation': '2.60'}}\n",
      "Saved ANSS: {'recommendations': {'date': '2020-06-04', 'recommendation': '2.40'}}\n",
      "Saved ANTM: {'recommendations': {'date': '2020-06-04', 'recommendation': '2.00'}}\n",
      "Saved AON: {'recommendations': {'date': '2020-06-04', 'recommendation': '2.30'}}\n",
      "Saved AOS: {'recommendations': {'date': '2020-06-04', 'recommendation': '2.60'}}\n",
      "Saved APA: {'recommendations': {'date': '2020-06-04', 'recommendation': '2.80'}}\n",
      "Saved APD: {'recommendations': {'date': '2020-06-04', 'recommendation': '2.20'}}\n",
      "Saved APH: {'recommendations': {'date': '2020-06-04', 'recommendation': '2.10'}}\n",
      "Saved APTV: {'recommendations': {'date': '2020-06-04', 'recommendation': '1.90'}}\n",
      "Saved ARE: {'recommendations': {'date': '2020-06-04', 'recommendation': '1.80'}}\n",
      "Saved ATO: {'recommendations': {'date': '2020-06-04', 'recommendation': '2.30'}}\n",
      "Saved ATVI: {'recommendations': {'date': '2020-06-04', 'recommendation': '1.90'}}\n",
      "Saved AVB: {'recommendations': {'date': '2020-06-04', 'recommendation': '2.40'}}\n",
      "Saved AVGO: {'recommendations': {'date': '2020-06-04', 'recommendation': '2.00'}}\n",
      "Saved AVY: {'recommendations': {'date': '2020-06-04', 'recommendation': '2.50'}}\n",
      "Saved AWK: {'recommendations': {'date': '2020-06-04', 'recommendation': '2.30'}}\n",
      "Saved AXP: {'recommendations': {'date': '2020-06-04', 'recommendation': '2.30'}}\n",
      "Saved AZO: {'recommendations': {'date': '2020-06-04', 'recommendation': '2.20'}}\n",
      "Saved BA: {'recommendations': {'date': '2020-06-04', 'recommendation': '2.70'}}\n",
      "Saved BAC: {'recommendations': {'date': '2020-06-04', 'recommendation': '2.30'}}\n",
      "Saved BAX: {'recommendations': {'date': '2020-06-04', 'recommendation': '2.00'}}\n",
      "Saved BBY: {'recommendations': {'date': '2020-06-04', 'recommendation': '2.50'}}\n",
      "Saved BDX: {'recommendations': {'date': '2020-06-04', 'recommendation': '2.10'}}\n",
      "Saved BEN: {'recommendations': {'date': '2020-06-04', 'recommendation': '3.40'}}\n",
      "Saved BF.B: {'recommendations': {'date': '2020-06-04', 'recommendation': 6}}\n",
      "Saved BIIB: {'recommendations': {'date': '2020-06-04', 'recommendation': '2.70'}}\n",
      "Saved BK: {'recommendations': {'date': '2020-06-04', 'recommendation': '2.50'}}\n",
      "Saved BKNG: {'recommendations': {'date': '2020-06-04', 'recommendation': '2.60'}}\n",
      "Saved BKR: {'recommendations': {'date': '2020-06-04', 'recommendation': '1.90'}}\n",
      "Saved BLK: {'recommendations': {'date': '2020-06-04', 'recommendation': '1.90'}}\n",
      "Saved BLL: {'recommendations': {'date': '2020-06-04', 'recommendation': '2.10'}}\n",
      "Saved BMY: {'recommendations': {'date': '2020-06-04', 'recommendation': '1.90'}}\n",
      "Saved BR: {'recommendations': {'date': '2020-06-04', 'recommendation': '2.40'}}\n",
      "Saved BRK.B: {'recommendations': {'date': '2020-06-04', 'recommendation': 6}}\n",
      "Saved BSX: {'recommendations': {'date': '2020-06-04', 'recommendation': '1.60'}}\n",
      "Saved BWA: {'recommendations': {'date': '2020-06-04', 'recommendation': '2.10'}}\n",
      "Saved BXP: {'recommendations': {'date': '2020-06-04', 'recommendation': '2.20'}}\n",
      "Saved C: {'recommendations': {'date': '2020-06-04', 'recommendation': '1.90'}}\n",
      "Saved CAG: {'recommendations': {'date': '2020-06-04', 'recommendation': '2.40'}}\n",
      "Saved CAH: {'recommendations': {'date': '2020-06-04', 'recommendation': '2.80'}}\n",
      "Saved CARR: {'recommendations': {'date': '2020-06-04', 'recommendation': '2.50'}}\n",
      "Saved CAT: {'recommendations': {'date': '2020-06-04', 'recommendation': '2.50'}}\n",
      "Saved CB: {'recommendations': {'date': '2020-06-04', 'recommendation': '2.80'}}\n",
      "Saved CBOE: {'recommendations': {'date': '2020-06-04', 'recommendation': '2.50'}}\n",
      "Saved CBRE: {'recommendations': {'date': '2020-06-04', 'recommendation': '2.10'}}\n",
      "Saved CCI: {'recommendations': {'date': '2020-06-04', 'recommendation': '2.40'}}\n",
      "Saved CCL: {'recommendations': {'date': '2020-06-04', 'recommendation': '2.80'}}\n",
      "Saved CDNS: {'recommendations': {'date': '2020-06-04', 'recommendation': '2.30'}}\n",
      "Saved CDW: {'recommendations': {'date': '2020-06-04', 'recommendation': '2.30'}}\n",
      "Saved CE: {'recommendations': {'date': '2020-06-04', 'recommendation': '2.30'}}\n",
      "Saved CERN: {'recommendations': {'date': '2020-06-04', 'recommendation': '2.00'}}\n",
      "Saved CF: {'recommendations': {'date': '2020-06-04', 'recommendation': '2.60'}}\n",
      "Saved CFG: {'recommendations': {'date': '2020-06-04', 'recommendation': '1.90'}}\n",
      "Saved CHD: {'recommendations': {'date': '2020-06-04', 'recommendation': '2.60'}}\n",
      "Saved CHRW: {'recommendations': {'date': '2020-06-04', 'recommendation': '2.70'}}\n",
      "Saved CHTR: {'recommendations': {'date': '2020-06-04', 'recommendation': '2.20'}}\n",
      "Saved CI: {'recommendations': {'date': '2020-06-04', 'recommendation': '1.90'}}\n",
      "Saved CINF: {'recommendations': {'date': '2020-06-04', 'recommendation': '3.10'}}\n",
      "Saved CL: {'recommendations': {'date': '2020-06-04', 'recommendation': '2.50'}}\n",
      "Saved CLX: {'recommendations': {'date': '2020-06-04', 'recommendation': '3.00'}}\n",
      "Saved CMA: {'recommendations': {'date': '2020-06-04', 'recommendation': '3.20'}}\n",
      "Saved CMCSA: {'recommendations': {'date': '2020-06-04', 'recommendation': '2.20'}}\n",
      "Saved CME: {'recommendations': {'date': '2020-06-04', 'recommendation': '2.40'}}\n",
      "Saved CMG: {'recommendations': {'date': '2020-06-04', 'recommendation': '2.30'}}\n"
     ]
    },
    {
     "name": "stdout",
     "output_type": "stream",
     "text": [
      "Saved CMI: {'recommendations': {'date': '2020-06-04', 'recommendation': '2.70'}}\n",
      "Saved CMS: {'recommendations': {'date': '2020-06-04', 'recommendation': '2.40'}}\n",
      "Saved CNC: {'recommendations': {'date': '2020-06-04', 'recommendation': '1.70'}}\n",
      "Saved CNP: {'recommendations': {'date': '2020-06-04', 'recommendation': '2.50'}}\n",
      "Saved COF: {'recommendations': {'date': '2020-06-04', 'recommendation': '2.10'}}\n",
      "Saved COG: {'recommendations': {'date': '2020-06-04', 'recommendation': '2.50'}}\n",
      "Saved COO: {'recommendations': {'date': '2020-06-04', 'recommendation': '2.00'}}\n",
      "Saved COP: {'recommendations': {'date': '2020-06-04', 'recommendation': '1.90'}}\n",
      "Saved COST: {'recommendations': {'date': '2020-06-04', 'recommendation': '2.20'}}\n",
      "Saved COTY: {'recommendations': {'date': '2020-06-04', 'recommendation': '3.00'}}\n",
      "Saved CPB: {'recommendations': {'date': '2020-06-04', 'recommendation': '3.10'}}\n",
      "Saved CPRT: {'recommendations': {'date': '2020-06-04', 'recommendation': '1.90'}}\n",
      "Saved CRM: {'recommendations': {'date': '2020-06-04', 'recommendation': '1.80'}}\n",
      "Saved CSCO: {'recommendations': {'date': '2020-06-04', 'recommendation': '2.30'}}\n",
      "Saved CSX: {'recommendations': {'date': '2020-06-04', 'recommendation': '2.40'}}\n",
      "Saved CTAS: {'recommendations': {'date': '2020-06-04', 'recommendation': '2.60'}}\n",
      "Saved CTL: {'recommendations': {'date': '2020-06-04', 'recommendation': '3.30'}}\n",
      "Saved CTSH: {'recommendations': {'date': '2020-06-04', 'recommendation': '3.10'}}\n",
      "Saved CTVA: {'recommendations': {'date': '2020-06-04', 'recommendation': '2.50'}}\n",
      "Saved CTXS: {'recommendations': {'date': '2020-06-04', 'recommendation': '2.50'}}\n",
      "Saved CVS: {'recommendations': {'date': '2020-06-04', 'recommendation': '2.10'}}\n",
      "Saved CVX: {'recommendations': {'date': '2020-06-04', 'recommendation': '2.10'}}\n",
      "Saved CXO: {'recommendations': {'date': '2020-06-04', 'recommendation': '1.80'}}\n",
      "Saved D: {'recommendations': {'date': '2020-06-04', 'recommendation': '2.60'}}\n",
      "Saved DAL: {'recommendations': {'date': '2020-06-04', 'recommendation': '2.20'}}\n",
      "Saved DD: {'recommendations': {'date': '2020-06-04', 'recommendation': '1.80'}}\n",
      "Saved DE: {'recommendations': {'date': '2020-06-04', 'recommendation': '2.40'}}\n",
      "Saved DFS: {'recommendations': {'date': '2020-06-04', 'recommendation': '2.30'}}\n",
      "Saved DG: {'recommendations': {'date': '2020-06-04', 'recommendation': '2.00'}}\n",
      "Saved DGX: {'recommendations': {'date': '2020-06-04', 'recommendation': '2.40'}}\n",
      "Saved DHI: {'recommendations': {'date': '2020-06-04', 'recommendation': '2.00'}}\n",
      "Saved DHR: {'recommendations': {'date': '2020-06-04', 'recommendation': '1.70'}}\n",
      "Saved DIS: {'recommendations': {'date': '2020-06-04', 'recommendation': '2.30'}}\n",
      "Saved DISCA: {'recommendations': {'date': '2020-06-04', 'recommendation': '2.50'}}\n",
      "Saved DISCK: {'recommendations': {'date': '2020-06-04', 'recommendation': '3.00'}}\n",
      "Saved DISH: {'recommendations': {'date': '2020-06-04', 'recommendation': '2.40'}}\n",
      "Saved DLR: {'recommendations': {'date': '2020-06-04', 'recommendation': '2.20'}}\n",
      "Saved DLTR: {'recommendations': {'date': '2020-06-04', 'recommendation': '2.40'}}\n",
      "Saved DOV: {'recommendations': {'date': '2020-06-04', 'recommendation': '2.10'}}\n",
      "Saved DOW: {'recommendations': {'date': '2020-06-04', 'recommendation': '2.70'}}\n",
      "Saved DPZ: {'recommendations': {'date': '2020-06-04', 'recommendation': '2.00'}}\n",
      "Saved DRE: {'recommendations': {'date': '2020-06-04', 'recommendation': '2.10'}}\n",
      "Saved DRI: {'recommendations': {'date': '2020-06-04', 'recommendation': '2.00'}}\n",
      "Saved DTE: {'recommendations': {'date': '2020-06-04', 'recommendation': '2.40'}}\n",
      "Saved DUK: {'recommendations': {'date': '2020-06-04', 'recommendation': '2.50'}}\n",
      "Saved DVA: {'recommendations': {'date': '2020-06-04', 'recommendation': '2.70'}}\n",
      "Saved DVN: {'recommendations': {'date': '2020-06-04', 'recommendation': '2.10'}}\n",
      "Saved DXC: {'recommendations': {'date': '2020-06-04', 'recommendation': '2.40'}}\n",
      "Saved DXCM: {'recommendations': {'date': '2020-06-04', 'recommendation': '1.60'}}\n",
      "Saved EA: {'recommendations': {'date': '2020-06-04', 'recommendation': '2.10'}}\n",
      "Saved EBAY: {'recommendations': {'date': '2020-06-04', 'recommendation': '2.60'}}\n",
      "Saved ECL: {'recommendations': {'date': '2020-06-04', 'recommendation': '2.80'}}\n",
      "Saved ED: {'recommendations': {'date': '2020-06-04', 'recommendation': '3.40'}}\n",
      "Saved EFX: {'recommendations': {'date': '2020-06-04', 'recommendation': '2.50'}}\n",
      "Saved EIX: {'recommendations': {'date': '2020-06-04', 'recommendation': '2.10'}}\n",
      "Saved EL: {'recommendations': {'date': '2020-06-04', 'recommendation': '2.40'}}\n",
      "Saved EMN: {'recommendations': {'date': '2020-06-04', 'recommendation': '2.00'}}\n",
      "Saved EMR: {'recommendations': {'date': '2020-06-04', 'recommendation': '2.50'}}\n",
      "Saved EOG: {'recommendations': {'date': '2020-06-04', 'recommendation': '2.00'}}\n",
      "Saved EQIX: {'recommendations': {'date': '2020-06-04', 'recommendation': '1.80'}}\n",
      "Saved EQR: {'recommendations': {'date': '2020-06-04', 'recommendation': '2.90'}}\n",
      "Saved ES: {'recommendations': {'date': '2020-06-04', 'recommendation': '2.40'}}\n",
      "Saved ESS: {'recommendations': {'date': '2020-06-04', 'recommendation': '2.60'}}\n",
      "Saved ETFC: {'recommendations': {'date': '2020-06-04', 'recommendation': '2.80'}}\n",
      "Saved ETN: {'recommendations': {'date': '2020-06-04', 'recommendation': '2.20'}}\n",
      "Saved ETR: {'recommendations': {'date': '2020-06-04', 'recommendation': '2.20'}}\n",
      "Saved EVRG: {'recommendations': {'date': '2020-06-04', 'recommendation': '2.00'}}\n",
      "Saved EW: {'recommendations': {'date': '2020-06-04', 'recommendation': '2.10'}}\n",
      "Saved EXC: {'recommendations': {'date': '2020-06-04', 'recommendation': '1.90'}}\n",
      "Saved EXPD: {'recommendations': {'date': '2020-06-04', 'recommendation': '3.10'}}\n",
      "Saved EXPE: {'recommendations': {'date': '2020-06-04', 'recommendation': '2.60'}}\n",
      "Saved EXR: {'recommendations': {'date': '2020-06-04', 'recommendation': '2.80'}}\n",
      "Saved F: {'recommendations': {'date': '2020-06-04', 'recommendation': '2.90'}}\n",
      "Saved FANG: {'recommendations': {'date': '2020-06-04', 'recommendation': '1.90'}}\n",
      "Saved FAST: {'recommendations': {'date': '2020-06-04', 'recommendation': '2.90'}}\n",
      "Saved FB: {'recommendations': {'date': '2020-06-04', 'recommendation': '1.90'}}\n",
      "Saved FBHS: {'recommendations': {'date': '2020-06-04', 'recommendation': '2.60'}}\n",
      "Saved FCX: {'recommendations': {'date': '2020-06-04', 'recommendation': '2.10'}}\n",
      "Saved FDX: {'recommendations': {'date': '2020-06-04', 'recommendation': '2.40'}}\n",
      "Saved FE: {'recommendations': {'date': '2020-06-04', 'recommendation': '1.90'}}\n",
      "Saved FFIV: {'recommendations': {'date': '2020-06-04', 'recommendation': '2.70'}}\n",
      "Saved FIS: {'recommendations': {'date': '2020-06-04', 'recommendation': '1.80'}}\n",
      "Saved FISV: {'recommendations': {'date': '2020-06-04', 'recommendation': '1.80'}}\n",
      "Saved FITB: {'recommendations': {'date': '2020-06-04', 'recommendation': '2.20'}}\n",
      "Saved FLIR: {'recommendations': {'date': '2020-06-04', 'recommendation': '2.40'}}\n",
      "Saved FLS: {'recommendations': {'date': '2020-06-04', 'recommendation': '2.80'}}\n",
      "Saved FLT: {'recommendations': {'date': '2020-06-04', 'recommendation': '2.30'}}\n",
      "Saved FMC: {'recommendations': {'date': '2020-06-04', 'recommendation': '1.90'}}\n",
      "Saved FOX: {'recommendations': {'date': '2020-06-04', 'recommendation': 6}}\n",
      "Saved FOXA: {'recommendations': {'date': '2020-06-04', 'recommendation': '2.60'}}\n",
      "Saved FRC: {'recommendations': {'date': '2020-06-04', 'recommendation': '2.50'}}\n",
      "Saved FRT: {'recommendations': {'date': '2020-06-04', 'recommendation': '2.30'}}\n",
      "Saved FTI: {'recommendations': {'date': '2020-06-04', 'recommendation': '2.30'}}\n",
      "Saved FTNT: {'recommendations': {'date': '2020-06-04', 'recommendation': '2.30'}}\n",
      "Saved FTV: {'recommendations': {'date': '2020-06-04', 'recommendation': '2.40'}}\n",
      "Saved GD: {'recommendations': {'date': '2020-06-04', 'recommendation': '2.00'}}\n",
      "Saved GE: {'recommendations': {'date': '2020-06-04', 'recommendation': '2.30'}}\n",
      "Saved GILD: {'recommendations': {'date': '2020-06-04', 'recommendation': '2.60'}}\n",
      "Saved GIS: {'recommendations': {'date': '2020-06-04', 'recommendation': '2.80'}}\n",
      "Saved GL: {'recommendations': {'date': '2020-06-04', 'recommendation': '2.90'}}\n",
      "Saved GLW: {'recommendations': {'date': '2020-06-04', 'recommendation': '2.50'}}\n",
      "Saved GM: {'recommendations': {'date': '2020-06-04', 'recommendation': '2.00'}}\n",
      "Saved GOOG: {'recommendations': {'date': '2020-06-04', 'recommendation': '1.60'}}\n"
     ]
    },
    {
     "name": "stdout",
     "output_type": "stream",
     "text": [
      "Saved GOOGL: {'recommendations': {'date': '2020-06-04', 'recommendation': '1.80'}}\n",
      "Saved GPC: {'recommendations': {'date': '2020-06-04', 'recommendation': '2.80'}}\n",
      "Saved GPN: {'recommendations': {'date': '2020-06-04', 'recommendation': '1.90'}}\n",
      "Saved GPS: {'recommendations': {'date': '2020-06-04', 'recommendation': '3.20'}}\n",
      "Saved GRMN: {'recommendations': {'date': '2020-06-04', 'recommendation': '2.80'}}\n",
      "Saved GS: {'recommendations': {'date': '2020-06-04', 'recommendation': '2.20'}}\n",
      "Saved GWW: {'recommendations': {'date': '2020-06-04', 'recommendation': '2.70'}}\n",
      "Saved HAL: {'recommendations': {'date': '2020-06-04', 'recommendation': '2.70'}}\n",
      "Saved HAS: {'recommendations': {'date': '2020-06-04', 'recommendation': '2.10'}}\n",
      "Saved HBAN: {'recommendations': {'date': '2020-06-04', 'recommendation': '2.70'}}\n",
      "Saved HBI: {'recommendations': {'date': '2020-06-04', 'recommendation': '2.80'}}\n",
      "Saved HCA: {'recommendations': {'date': '2020-06-04', 'recommendation': '1.80'}}\n",
      "Saved HD: {'recommendations': {'date': '2020-06-04', 'recommendation': '2.20'}}\n",
      "Saved HES: {'recommendations': {'date': '2020-06-04', 'recommendation': '2.20'}}\n",
      "Saved HFC: {'recommendations': {'date': '2020-06-04', 'recommendation': '2.40'}}\n",
      "Saved HIG: {'recommendations': {'date': '2020-06-04', 'recommendation': '2.10'}}\n",
      "Saved HII: {'recommendations': {'date': '2020-06-04', 'recommendation': '2.50'}}\n",
      "Saved HLT: {'recommendations': {'date': '2020-06-04', 'recommendation': '2.60'}}\n",
      "Saved HOG: {'recommendations': {'date': '2020-06-04', 'recommendation': '2.90'}}\n",
      "Saved HOLX: {'recommendations': {'date': '2020-06-04', 'recommendation': '1.90'}}\n",
      "Saved HON: {'recommendations': {'date': '2020-06-04', 'recommendation': '1.90'}}\n",
      "Saved HPE: {'recommendations': {'date': '2020-06-04', 'recommendation': '2.80'}}\n",
      "Saved HPQ: {'recommendations': {'date': '2020-06-04', 'recommendation': '2.70'}}\n",
      "Saved HRB: {'recommendations': {'date': '2020-06-04', 'recommendation': '2.70'}}\n",
      "Saved HRL: {'recommendations': {'date': '2020-06-04', 'recommendation': '3.20'}}\n",
      "Saved HSIC: {'recommendations': {'date': '2020-06-04', 'recommendation': '2.60'}}\n",
      "Saved HST: {'recommendations': {'date': '2020-06-04', 'recommendation': '2.60'}}\n",
      "Saved HSY: {'recommendations': {'date': '2020-06-04', 'recommendation': '2.90'}}\n",
      "Saved HUM: {'recommendations': {'date': '2020-06-04', 'recommendation': '2.00'}}\n",
      "Saved HWM: {'recommendations': {'date': '2020-06-04', 'recommendation': '2.60'}}\n",
      "Saved IBM: {'recommendations': {'date': '2020-06-04', 'recommendation': '2.70'}}\n",
      "Saved ICE: {'recommendations': {'date': '2020-06-04', 'recommendation': '1.70'}}\n",
      "Saved IDXX: {'recommendations': {'date': '2020-06-04', 'recommendation': '2.00'}}\n",
      "Saved IEX: {'recommendations': {'date': '2020-06-04', 'recommendation': '2.30'}}\n",
      "Saved IFF: {'recommendations': {'date': '2020-06-04', 'recommendation': '2.60'}}\n",
      "Saved ILMN: {'recommendations': {'date': '2020-06-04', 'recommendation': '2.30'}}\n",
      "Saved INCY: {'recommendations': {'date': '2020-06-04', 'recommendation': '2.30'}}\n",
      "Saved INFO: {'recommendations': {'date': '2020-06-04', 'recommendation': '2.10'}}\n",
      "Saved INTC: {'recommendations': {'date': '2020-06-04', 'recommendation': '2.70'}}\n",
      "Saved INTU: {'recommendations': {'date': '2020-06-04', 'recommendation': '2.10'}}\n",
      "Saved IP: {'recommendations': {'date': '2020-06-04', 'recommendation': '2.90'}}\n",
      "Saved IPG: {'recommendations': {'date': '2020-06-04', 'recommendation': '2.70'}}\n",
      "Saved IPGP: {'recommendations': {'date': '2020-06-04', 'recommendation': '2.40'}}\n",
      "Saved IQV: {'recommendations': {'date': '2020-06-04', 'recommendation': '1.70'}}\n",
      "Saved IR: {'recommendations': {'date': '2020-06-04', 'recommendation': '2.50'}}\n",
      "Saved IRM: {'recommendations': {'date': '2020-06-04', 'recommendation': '2.60'}}\n",
      "Saved ISRG: {'recommendations': {'date': '2020-06-04', 'recommendation': '2.40'}}\n",
      "Saved IT: {'recommendations': {'date': '2020-06-04', 'recommendation': '2.20'}}\n",
      "Saved ITW: {'recommendations': {'date': '2020-06-04', 'recommendation': '3.00'}}\n",
      "Saved IVZ: {'recommendations': {'date': '2020-06-04', 'recommendation': '3.10'}}\n",
      "Saved J: {'recommendations': {'date': '2020-06-04', 'recommendation': '1.60'}}\n",
      "Saved JBHT: {'recommendations': {'date': '2020-06-04', 'recommendation': '2.60'}}\n",
      "Saved JCI: {'recommendations': {'date': '2020-06-04', 'recommendation': '2.30'}}\n",
      "Saved JKHY: {'recommendations': {'date': '2020-06-04', 'recommendation': '3.00'}}\n",
      "Saved JNJ: {'recommendations': {'date': '2020-06-04', 'recommendation': '2.00'}}\n",
      "Saved JNPR: {'recommendations': {'date': '2020-06-04', 'recommendation': '2.90'}}\n",
      "Saved JPM: {'recommendations': {'date': '2020-06-04', 'recommendation': '2.50'}}\n",
      "Saved JWN: {'recommendations': {'date': '2020-06-04', 'recommendation': '3.10'}}\n",
      "Saved K: {'recommendations': {'date': '2020-06-04', 'recommendation': '2.60'}}\n",
      "Saved KEY: {'recommendations': {'date': '2020-06-04', 'recommendation': '2.50'}}\n",
      "Saved KEYS: {'recommendations': {'date': '2020-06-04', 'recommendation': '2.00'}}\n",
      "Saved KHC: {'recommendations': {'date': '2020-06-04', 'recommendation': '2.80'}}\n",
      "Saved KIM: {'recommendations': {'date': '2020-06-04', 'recommendation': '3.00'}}\n",
      "Saved KLAC: {'recommendations': {'date': '2020-06-04', 'recommendation': '2.20'}}\n",
      "Saved KMB: {'recommendations': {'date': '2020-06-04', 'recommendation': '2.60'}}\n",
      "Saved KMI: {'recommendations': {'date': '2020-06-04', 'recommendation': '2.20'}}\n",
      "Saved KMX: {'recommendations': {'date': '2020-06-04', 'recommendation': '1.60'}}\n",
      "Saved KO: {'recommendations': {'date': '2020-06-04', 'recommendation': '2.00'}}\n",
      "Saved KR: {'recommendations': {'date': '2020-06-04', 'recommendation': '2.40'}}\n",
      "Saved KSS: {'recommendations': {'date': '2020-06-04', 'recommendation': '3.00'}}\n",
      "Saved KSU: {'recommendations': {'date': '2020-06-04', 'recommendation': '2.30'}}\n",
      "Saved L: {'recommendations': {'date': '2020-06-04', 'recommendation': '3.00'}}\n",
      "Saved LB: {'recommendations': {'date': '2020-06-04', 'recommendation': '2.80'}}\n",
      "Saved LDOS: {'recommendations': {'date': '2020-06-04', 'recommendation': '1.90'}}\n",
      "Saved LEG: {'recommendations': {'date': '2020-06-04', 'recommendation': '2.60'}}\n",
      "Saved LEN: {'recommendations': {'date': '2020-06-04', 'recommendation': '2.20'}}\n",
      "Saved LH: {'recommendations': {'date': '2020-06-04', 'recommendation': '2.00'}}\n",
      "Saved LHX: {'recommendations': {'date': '2020-06-04', 'recommendation': '1.70'}}\n",
      "Saved LIN: {'recommendations': {'date': '2020-06-04', 'recommendation': '2.00'}}\n",
      "Saved LKQ: {'recommendations': {'date': '2020-06-04', 'recommendation': '1.50'}}\n",
      "Saved LLY: {'recommendations': {'date': '2020-06-04', 'recommendation': '2.40'}}\n",
      "Saved LMT: {'recommendations': {'date': '2020-06-04', 'recommendation': '2.10'}}\n",
      "Saved LNC: {'recommendations': {'date': '2020-06-04', 'recommendation': '2.30'}}\n",
      "Saved LNT: {'recommendations': {'date': '2020-06-04', 'recommendation': '2.00'}}\n",
      "Saved LOW: {'recommendations': {'date': '2020-06-04', 'recommendation': '1.80'}}\n",
      "Saved LRCX: {'recommendations': {'date': '2020-06-04', 'recommendation': '2.00'}}\n",
      "Saved LUV: {'recommendations': {'date': '2020-06-04', 'recommendation': '2.30'}}\n",
      "Saved LVS: {'recommendations': {'date': '2020-06-04', 'recommendation': '1.80'}}\n",
      "Saved LW: {'recommendations': {'date': '2020-06-04', 'recommendation': '2.60'}}\n",
      "Saved LYB: {'recommendations': {'date': '2020-06-04', 'recommendation': '2.50'}}\n",
      "Saved LYV: {'recommendations': {'date': '2020-06-04', 'recommendation': '2.10'}}\n",
      "Saved MA: {'recommendations': {'date': '2020-06-04', 'recommendation': '1.80'}}\n",
      "Saved MAA: {'recommendations': {'date': '2020-06-04', 'recommendation': '2.60'}}\n",
      "Saved MAR: {'recommendations': {'date': '2020-06-04', 'recommendation': '2.80'}}\n",
      "Saved MAS: {'recommendations': {'date': '2020-06-04', 'recommendation': '2.00'}}\n",
      "Saved MCD: {'recommendations': {'date': '2020-06-04', 'recommendation': '2.00'}}\n",
      "Saved MCHP: {'recommendations': {'date': '2020-06-04', 'recommendation': '1.90'}}\n",
      "Saved MCK: {'recommendations': {'date': '2020-06-04', 'recommendation': '2.10'}}\n",
      "Saved MCO: {'recommendations': {'date': '2020-06-04', 'recommendation': '2.20'}}\n",
      "Saved MDLZ: {'recommendations': {'date': '2020-06-04', 'recommendation': '1.80'}}\n",
      "Saved MDT: {'recommendations': {'date': '2020-06-04', 'recommendation': '2.00'}}\n",
      "Saved MET: {'recommendations': {'date': '2020-06-04', 'recommendation': '2.20'}}\n",
      "Saved MGM: {'recommendations': {'date': '2020-06-04', 'recommendation': '2.60'}}\n"
     ]
    },
    {
     "name": "stdout",
     "output_type": "stream",
     "text": [
      "Saved MHK: {'recommendations': {'date': '2020-06-04', 'recommendation': '2.80'}}\n",
      "Saved MKC: {'recommendations': {'date': '2020-06-04', 'recommendation': '3.40'}}\n",
      "Saved MKTX: {'recommendations': {'date': '2020-06-04', 'recommendation': '2.80'}}\n",
      "Saved MLM: {'recommendations': {'date': '2020-06-04', 'recommendation': '2.20'}}\n",
      "Saved MMC: {'recommendations': {'date': '2020-06-04', 'recommendation': '2.60'}}\n",
      "Saved MMM: {'recommendations': {'date': '2020-06-04', 'recommendation': '3.20'}}\n",
      "Saved MNST: {'recommendations': {'date': '2020-06-04', 'recommendation': '2.20'}}\n",
      "Saved MO: {'recommendations': {'date': '2020-06-04', 'recommendation': '2.10'}}\n",
      "Saved MOS: {'recommendations': {'date': '2020-06-04', 'recommendation': '2.50'}}\n",
      "Saved MPC: {'recommendations': {'date': '2020-06-04', 'recommendation': '1.90'}}\n",
      "Saved MRK: {'recommendations': {'date': '2020-06-04', 'recommendation': '1.90'}}\n",
      "Saved MRO: {'recommendations': {'date': '2020-06-04', 'recommendation': '2.90'}}\n",
      "Saved MS: {'recommendations': {'date': '2020-06-04', 'recommendation': '2.10'}}\n",
      "Saved MSCI: {'recommendations': {'date': '2020-06-04', 'recommendation': '2.50'}}\n",
      "Saved MSFT: {'recommendations': {'date': '2020-06-04', 'recommendation': '1.70'}}\n",
      "Saved MSI: {'recommendations': {'date': '2020-06-04', 'recommendation': '1.90'}}\n",
      "Saved MTB: {'recommendations': {'date': '2020-06-04', 'recommendation': '2.90'}}\n",
      "Saved MTD: {'recommendations': {'date': '2020-06-04', 'recommendation': '3.20'}}\n",
      "Saved MU: {'recommendations': {'date': '2020-06-04', 'recommendation': '2.10'}}\n",
      "Saved MXIM: {'recommendations': {'date': '2020-06-04', 'recommendation': '2.90'}}\n",
      "Saved MYL: {'recommendations': {'date': '2020-06-04', 'recommendation': '2.40'}}\n",
      "Saved NBL: {'recommendations': {'date': '2020-06-04', 'recommendation': '2.00'}}\n",
      "Saved NCLH: {'recommendations': {'date': '2020-06-04', 'recommendation': '2.30'}}\n",
      "Saved NDAQ: {'recommendations': {'date': '2020-06-04', 'recommendation': '2.30'}}\n",
      "Saved NEE: {'recommendations': {'date': '2020-06-04', 'recommendation': '2.20'}}\n",
      "Saved NEM: {'recommendations': {'date': '2020-06-04', 'recommendation': '2.00'}}\n",
      "Saved NFLX: {'recommendations': {'date': '2020-06-04', 'recommendation': '2.30'}}\n",
      "Saved NI: {'recommendations': {'date': '2020-06-04', 'recommendation': '2.10'}}\n",
      "Saved NKE: {'recommendations': {'date': '2020-06-04', 'recommendation': '2.00'}}\n",
      "Saved NLOK: {'recommendations': {'date': '2020-06-04', 'recommendation': '2.80'}}\n",
      "Saved NLSN: {'recommendations': {'date': '2020-06-04', 'recommendation': '2.50'}}\n",
      "Saved NOC: {'recommendations': {'date': '2020-06-04', 'recommendation': '1.90'}}\n",
      "Saved NOV: {'recommendations': {'date': '2020-06-04', 'recommendation': '2.60'}}\n",
      "Saved NOW: {'recommendations': {'date': '2020-06-04', 'recommendation': '1.90'}}\n",
      "Saved NRG: {'recommendations': {'date': '2020-06-04', 'recommendation': '1.70'}}\n",
      "Saved NSC: {'recommendations': {'date': '2020-06-04', 'recommendation': '2.50'}}\n",
      "Saved NTAP: {'recommendations': {'date': '2020-06-04', 'recommendation': '3.00'}}\n",
      "Saved NTRS: {'recommendations': {'date': '2020-06-04', 'recommendation': '2.90'}}\n",
      "Saved NUE: {'recommendations': {'date': '2020-06-04', 'recommendation': '2.40'}}\n",
      "Saved NVDA: {'recommendations': {'date': '2020-06-04', 'recommendation': '2.10'}}\n",
      "Saved NVR: {'recommendations': {'date': '2020-06-04', 'recommendation': '2.60'}}\n",
      "Saved NWL: {'recommendations': {'date': '2020-06-04', 'recommendation': '2.80'}}\n",
      "Saved NWS: {'recommendations': {'date': '2020-06-04', 'recommendation': 6}}\n",
      "Saved NWSA: {'recommendations': {'date': '2020-06-04', 'recommendation': '3.10'}}\n",
      "Saved O: {'recommendations': {'date': '2020-06-04', 'recommendation': '2.30'}}\n",
      "Saved ODFL: {'recommendations': {'date': '2020-06-04', 'recommendation': '2.70'}}\n",
      "Saved OKE: {'recommendations': {'date': '2020-06-04', 'recommendation': '2.50'}}\n",
      "Saved OMC: {'recommendations': {'date': '2020-06-04', 'recommendation': '3.20'}}\n",
      "Saved ORCL: {'recommendations': {'date': '2020-06-04', 'recommendation': '2.80'}}\n",
      "Saved ORLY: {'recommendations': {'date': '2020-06-04', 'recommendation': '2.30'}}\n",
      "Saved OTIS: {'recommendations': {'date': '2020-06-04', 'recommendation': '2.50'}}\n",
      "Saved OXY: {'recommendations': {'date': '2020-06-04', 'recommendation': '3.30'}}\n",
      "Saved PAYC: {'recommendations': {'date': '2020-06-04', 'recommendation': '2.60'}}\n",
      "Saved PAYX: {'recommendations': {'date': '2020-06-04', 'recommendation': '2.90'}}\n",
      "Saved PBCT: {'recommendations': {'date': '2020-06-04', 'recommendation': '2.90'}}\n",
      "Saved PCAR: {'recommendations': {'date': '2020-06-04', 'recommendation': '2.50'}}\n",
      "Saved PEAK: {'recommendations': {'date': '2020-06-04', 'recommendation': '2.40'}}\n",
      "Saved PEG: {'recommendations': {'date': '2020-06-04', 'recommendation': '2.30'}}\n",
      "Saved PEP: {'recommendations': {'date': '2020-06-04', 'recommendation': '2.20'}}\n",
      "Saved PFE: {'recommendations': {'date': '2020-06-04', 'recommendation': '2.50'}}\n",
      "Saved PFG: {'recommendations': {'date': '2020-06-04', 'recommendation': '2.70'}}\n",
      "Saved PG: {'recommendations': {'date': '2020-06-04', 'recommendation': '2.20'}}\n",
      "Saved PGR: {'recommendations': {'date': '2020-06-04', 'recommendation': '2.10'}}\n",
      "Saved PH: {'recommendations': {'date': '2020-06-04', 'recommendation': '2.10'}}\n",
      "Saved PHM: {'recommendations': {'date': '2020-06-04', 'recommendation': '2.70'}}\n",
      "Saved PKG: {'recommendations': {'date': '2020-06-04', 'recommendation': '2.90'}}\n",
      "Saved PKI: {'recommendations': {'date': '2020-06-04', 'recommendation': '2.40'}}\n",
      "Saved PLD: {'recommendations': {'date': '2020-06-04', 'recommendation': '1.80'}}\n",
      "Saved PM: {'recommendations': {'date': '2020-06-04', 'recommendation': '2.00'}}\n",
      "Saved PNC: {'recommendations': {'date': '2020-06-04', 'recommendation': '2.40'}}\n",
      "Saved PNR: {'recommendations': {'date': '2020-06-04', 'recommendation': '2.60'}}\n",
      "Saved PNW: {'recommendations': {'date': '2020-06-04', 'recommendation': '2.70'}}\n",
      "Saved PPG: {'recommendations': {'date': '2020-06-04', 'recommendation': '2.40'}}\n",
      "Saved PPL: {'recommendations': {'date': '2020-06-04', 'recommendation': '2.40'}}\n",
      "Saved PRGO: {'recommendations': {'date': '2020-06-04', 'recommendation': '2.50'}}\n",
      "Saved PRU: {'recommendations': {'date': '2020-06-04', 'recommendation': '2.90'}}\n",
      "Saved PSA: {'recommendations': {'date': '2020-06-04', 'recommendation': '2.90'}}\n",
      "Saved PSX: {'recommendations': {'date': '2020-06-04', 'recommendation': '1.80'}}\n",
      "Saved PVH: {'recommendations': {'date': '2020-06-04', 'recommendation': '2.30'}}\n",
      "Saved PWR: {'recommendations': {'date': '2020-06-04', 'recommendation': '1.60'}}\n",
      "Saved PXD: {'recommendations': {'date': '2020-06-04', 'recommendation': '1.80'}}\n",
      "Saved PYPL: {'recommendations': {'date': '2020-06-04', 'recommendation': '1.80'}}\n",
      "Saved QCOM: {'recommendations': {'date': '2020-06-04', 'recommendation': '2.20'}}\n",
      "Saved QRVO: {'recommendations': {'date': '2020-06-04', 'recommendation': '2.30'}}\n",
      "Saved RCL: {'recommendations': {'date': '2020-06-04', 'recommendation': '2.30'}}\n",
      "Saved RE: {'recommendations': {'date': '2020-06-04', 'recommendation': '2.60'}}\n",
      "Saved REG: {'recommendations': {'date': '2020-06-04', 'recommendation': '2.10'}}\n",
      "Saved REGN: {'recommendations': {'date': '2020-06-04', 'recommendation': '2.10'}}\n",
      "Saved RF: {'recommendations': {'date': '2020-06-04', 'recommendation': '2.40'}}\n",
      "Saved RHI: {'recommendations': {'date': '2020-06-04', 'recommendation': '3.00'}}\n",
      "Saved RJF: {'recommendations': {'date': '2020-06-04', 'recommendation': '2.90'}}\n",
      "Saved RL: {'recommendations': {'date': '2020-06-04', 'recommendation': '2.60'}}\n",
      "Saved RMD: {'recommendations': {'date': '2020-06-04', 'recommendation': '2.70'}}\n",
      "Saved ROK: {'recommendations': {'date': '2020-06-04', 'recommendation': '2.90'}}\n",
      "Saved ROL: {'recommendations': {'date': '2020-06-04', 'recommendation': '2.50'}}\n",
      "Saved ROP: {'recommendations': {'date': '2020-06-04', 'recommendation': '2.20'}}\n",
      "Saved ROST: {'recommendations': {'date': '2020-06-04', 'recommendation': '2.00'}}\n",
      "Saved RSG: {'recommendations': {'date': '2020-06-04', 'recommendation': '2.10'}}\n",
      "Saved RTX: {'recommendations': {'date': '2020-06-04', 'recommendation': '2.00'}}\n",
      "Saved SBAC: {'recommendations': {'date': '2020-06-04', 'recommendation': '2.00'}}\n",
      "Saved SBUX: {'recommendations': {'date': '2020-06-04', 'recommendation': '2.50'}}\n",
      "Saved SCHW: {'recommendations': {'date': '2020-06-04', 'recommendation': '2.40'}}\n"
     ]
    },
    {
     "name": "stdout",
     "output_type": "stream",
     "text": [
      "Saved SEE: {'recommendations': {'date': '2020-06-04', 'recommendation': '2.40'}}\n",
      "Saved SHW: {'recommendations': {'date': '2020-06-04', 'recommendation': '2.30'}}\n",
      "Saved SIVB: {'recommendations': {'date': '2020-06-04', 'recommendation': '2.30'}}\n",
      "Saved SJM: {'recommendations': {'date': '2020-06-04', 'recommendation': '3.20'}}\n",
      "Saved SLB: {'recommendations': {'date': '2020-06-04', 'recommendation': '2.30'}}\n",
      "Saved SLG: {'recommendations': {'date': '2020-06-04', 'recommendation': '2.80'}}\n",
      "Saved SNA: {'recommendations': {'date': '2020-06-04', 'recommendation': '2.40'}}\n",
      "Saved SNPS: {'recommendations': {'date': '2020-06-04', 'recommendation': '1.80'}}\n",
      "Saved SO: {'recommendations': {'date': '2020-06-04', 'recommendation': '2.90'}}\n",
      "Saved SPG: {'recommendations': {'date': '2020-06-04', 'recommendation': '2.60'}}\n",
      "Saved SPGI: {'recommendations': {'date': '2020-06-04', 'recommendation': '2.00'}}\n",
      "Saved SRE: {'recommendations': {'date': '2020-06-04', 'recommendation': '2.30'}}\n",
      "Saved STE: {'recommendations': {'date': '2020-06-04', 'recommendation': '2.20'}}\n",
      "Saved STT: {'recommendations': {'date': '2020-06-04', 'recommendation': '2.40'}}\n",
      "Saved STX: {'recommendations': {'date': '2020-06-04', 'recommendation': '2.70'}}\n",
      "Saved STZ: {'recommendations': {'date': '2020-06-04', 'recommendation': '2.30'}}\n",
      "Saved SWK: {'recommendations': {'date': '2020-06-04', 'recommendation': '2.30'}}\n",
      "Saved SWKS: {'recommendations': {'date': '2020-06-04', 'recommendation': '2.30'}}\n",
      "Saved SYF: {'recommendations': {'date': '2020-06-04', 'recommendation': '1.90'}}\n",
      "Saved SYK: {'recommendations': {'date': '2020-06-04', 'recommendation': '2.10'}}\n",
      "Saved SYY: {'recommendations': {'date': '2020-06-04', 'recommendation': '2.60'}}\n",
      "Saved T: {'recommendations': {'date': '2020-06-04', 'recommendation': '2.70'}}\n",
      "Saved TAP: {'recommendations': {'date': '2020-06-04', 'recommendation': '2.80'}}\n",
      "Saved TDG: {'recommendations': {'date': '2020-06-04', 'recommendation': '2.40'}}\n",
      "Saved TEL: {'recommendations': {'date': '2020-06-04', 'recommendation': '2.20'}}\n",
      "Saved TFC: {'recommendations': {'date': '2020-06-04', 'recommendation': '2.20'}}\n",
      "Saved TFX: {'recommendations': {'date': '2020-06-04', 'recommendation': '1.80'}}\n",
      "Saved TGT: {'recommendations': {'date': '2020-06-04', 'recommendation': '2.20'}}\n",
      "Saved TIF: {'recommendations': {'date': '2020-06-04', 'recommendation': '3.10'}}\n",
      "Saved TJX: {'recommendations': {'date': '2020-06-04', 'recommendation': '1.70'}}\n",
      "Saved TMO: {'recommendations': {'date': '2020-06-04', 'recommendation': '1.70'}}\n",
      "Saved TMUS: {'recommendations': {'date': '2020-06-04', 'recommendation': '1.90'}}\n",
      "Saved TPR: {'recommendations': {'date': '2020-06-04', 'recommendation': '2.60'}}\n",
      "Saved TROW: {'recommendations': {'date': '2020-06-04', 'recommendation': '2.60'}}\n",
      "Saved TRV: {'recommendations': {'date': '2020-06-04', 'recommendation': '2.90'}}\n",
      "Saved TSCO: {'recommendations': {'date': '2020-06-04', 'recommendation': '2.30'}}\n",
      "Saved TSN: {'recommendations': {'date': '2020-06-04', 'recommendation': '2.40'}}\n",
      "Saved TT: {'recommendations': {'date': '2020-06-04', 'recommendation': '2.60'}}\n",
      "Saved TTWO: {'recommendations': {'date': '2020-06-04', 'recommendation': '2.10'}}\n",
      "Saved TWTR: {'recommendations': {'date': '2020-06-04', 'recommendation': '2.90'}}\n",
      "Saved TXN: {'recommendations': {'date': '2020-06-04', 'recommendation': '2.60'}}\n",
      "Saved TXT: {'recommendations': {'date': '2020-06-04', 'recommendation': '2.60'}}\n",
      "Saved UA: {'recommendations': {'date': '2020-06-04', 'recommendation': '3.00'}}\n",
      "Saved UAA: {'recommendations': {'date': '2020-06-04', 'recommendation': '2.90'}}\n",
      "Saved UAL: {'recommendations': {'date': '2020-06-04', 'recommendation': '2.40'}}\n",
      "Saved UDR: {'recommendations': {'date': '2020-06-04', 'recommendation': '2.50'}}\n",
      "Saved UHS: {'recommendations': {'date': '2020-06-04', 'recommendation': '2.30'}}\n",
      "Saved ULTA: {'recommendations': {'date': '2020-06-04', 'recommendation': '2.10'}}\n",
      "Saved UNH: {'recommendations': {'date': '2020-06-04', 'recommendation': '1.80'}}\n",
      "Saved UNM: {'recommendations': {'date': '2020-06-04', 'recommendation': '3.20'}}\n",
      "Saved UNP: {'recommendations': {'date': '2020-06-04', 'recommendation': '2.20'}}\n",
      "Saved UPS: {'recommendations': {'date': '2020-06-04', 'recommendation': '2.50'}}\n",
      "Saved URI: {'recommendations': {'date': '2020-06-04', 'recommendation': '2.20'}}\n",
      "Saved USB: {'recommendations': {'date': '2020-06-04', 'recommendation': '2.70'}}\n",
      "Saved V: {'recommendations': {'date': '2020-06-04', 'recommendation': '1.80'}}\n",
      "Saved VAR: {'recommendations': {'date': '2020-06-04', 'recommendation': '2.10'}}\n",
      "Saved VFC: {'recommendations': {'date': '2020-06-04', 'recommendation': '2.40'}}\n",
      "Saved VIAC: {'recommendations': {'date': '2020-06-04', 'recommendation': '2.60'}}\n",
      "Saved VLO: {'recommendations': {'date': '2020-06-04', 'recommendation': '1.90'}}\n",
      "Saved VMC: {'recommendations': {'date': '2020-06-04', 'recommendation': '2.00'}}\n",
      "Saved VNO: {'recommendations': {'date': '2020-06-04', 'recommendation': '3.30'}}\n",
      "Saved VRSK: {'recommendations': {'date': '2020-06-04', 'recommendation': '2.50'}}\n",
      "Saved VRSN: {'recommendations': {'date': '2020-06-04', 'recommendation': '2.30'}}\n",
      "Saved VRTX: {'recommendations': {'date': '2020-06-04', 'recommendation': '1.90'}}\n",
      "Saved VTR: {'recommendations': {'date': '2020-06-04', 'recommendation': '3.00'}}\n",
      "Saved VZ: {'recommendations': {'date': '2020-06-04', 'recommendation': '2.60'}}\n",
      "Saved WAB: {'recommendations': {'date': '2020-06-04', 'recommendation': '2.30'}}\n",
      "Saved WAT: {'recommendations': {'date': '2020-06-04', 'recommendation': '3.60'}}\n",
      "Saved WBA: {'recommendations': {'date': '2020-06-04', 'recommendation': '3.10'}}\n",
      "Saved WDC: {'recommendations': {'date': '2020-06-04', 'recommendation': '2.20'}}\n",
      "Saved WEC: {'recommendations': {'date': '2020-06-04', 'recommendation': '3.20'}}\n",
      "Saved WELL: {'recommendations': {'date': '2020-06-04', 'recommendation': '2.90'}}\n",
      "Saved WFC: {'recommendations': {'date': '2020-06-04', 'recommendation': '3.10'}}\n",
      "Saved WHR: {'recommendations': {'date': '2020-06-04', 'recommendation': '2.90'}}\n",
      "Saved WLTW: {'recommendations': {'date': '2020-06-04', 'recommendation': '2.30'}}\n",
      "Saved WM: {'recommendations': {'date': '2020-06-04', 'recommendation': '2.20'}}\n",
      "Saved WMB: {'recommendations': {'date': '2020-06-04', 'recommendation': '1.90'}}\n",
      "Saved WMT: {'recommendations': {'date': '2020-06-04', 'recommendation': '2.00'}}\n",
      "Saved WRB: {'recommendations': {'date': '2020-06-04', 'recommendation': '3.00'}}\n",
      "Saved WRK: {'recommendations': {'date': '2020-06-04', 'recommendation': '2.40'}}\n",
      "Saved WST: {'recommendations': {'date': '2020-06-04', 'recommendation': '2.00'}}\n",
      "Saved WU: {'recommendations': {'date': '2020-06-04', 'recommendation': '3.20'}}\n",
      "Saved WY: {'recommendations': {'date': '2020-06-04', 'recommendation': '2.00'}}\n",
      "Saved WYNN: {'recommendations': {'date': '2020-06-04', 'recommendation': '2.00'}}\n",
      "Saved XEL: {'recommendations': {'date': '2020-06-04', 'recommendation': '2.80'}}\n",
      "Saved XLNX: {'recommendations': {'date': '2020-06-04', 'recommendation': '2.60'}}\n",
      "Saved XOM: {'recommendations': {'date': '2020-06-04', 'recommendation': '3.10'}}\n",
      "Saved XRAY: {'recommendations': {'date': '2020-06-04', 'recommendation': '2.20'}}\n",
      "Saved XRX: {'recommendations': {'date': '2020-06-04', 'recommendation': '3.10'}}\n",
      "Saved XYL: {'recommendations': {'date': '2020-06-04', 'recommendation': '2.80'}}\n",
      "Saved YUM: {'recommendations': {'date': '2020-06-04', 'recommendation': '2.60'}}\n",
      "Saved ZBH: {'recommendations': {'date': '2020-06-04', 'recommendation': '1.90'}}\n",
      "Saved ZBRA: {'recommendations': {'date': '2020-06-04', 'recommendation': '2.30'}}\n",
      "Saved ZION: {'recommendations': {'date': '2020-06-04', 'recommendation': '2.70'}}\n",
      "Saved ZTS: {'recommendations': {'date': '2020-06-04', 'recommendation': '2.00'}}\n"
     ]
    }
   ],
   "source": [
    "# retrieve and store current recommendations\n",
    "for ticker in tickers: \n",
    "#     print(get_and_store_recommendations(ticker))\n",
    "    get_and_store_recommendations(ticker)"
   ]
  },
  {
   "cell_type": "code",
   "execution_count": 11,
   "metadata": {},
   "outputs": [],
   "source": [
    "client = pm.MongoClient('mongodb://localhost:27017')\n",
    "collection = client['news']['recommendations']"
   ]
  },
  {
   "cell_type": "code",
   "execution_count": 39,
   "metadata": {},
   "outputs": [
    {
     "data": {
      "text/plain": [
       "{'n': 505, 'nModified': 44, 'ok': 1.0, 'updatedExisting': True}"
      ]
     },
     "execution_count": 39,
     "metadata": {},
     "output_type": "execute_result"
    }
   ],
   "source": [
    "# remove the news with erroneous datetime from the 'news' array\n",
    "res = collection.update_many(\n",
    "    { },\n",
    "    { '$pull': { 'news' : { 'datetime' : '1900-01-01'}}}\n",
    ")\n",
    "res.raw_result"
   ]
  },
  {
   "cell_type": "code",
   "execution_count": null,
   "metadata": {},
   "outputs": [],
   "source": []
  },
  {
   "cell_type": "code",
   "execution_count": null,
   "metadata": {},
   "outputs": [],
   "source": []
  },
  {
   "cell_type": "code",
   "execution_count": null,
   "metadata": {},
   "outputs": [],
   "source": []
  },
  {
   "cell_type": "code",
   "execution_count": null,
   "metadata": {},
   "outputs": [],
   "source": [
    "df = pd.DataFrame(list(zip(tickers, recommendations)), \n",
    "               columns =['company', 'recommendation']) \n",
    "df.head()"
   ]
  },
  {
   "cell_type": "code",
   "execution_count": null,
   "metadata": {},
   "outputs": [],
   "source": [
    "df['recommendation'] = pd.to_numeric(df['recommendation'])\n",
    "df = df[df.recommendation != 6]\n",
    "df.sort_values(by=['recommendation'], ascending = True)"
   ]
  },
  {
   "cell_type": "markdown",
   "metadata": {},
   "source": [
    "For the purpose of this analysis, the only values that are of importance are 1–1.5, 3, and 4.5–5. These are the scores, that signify the highest chance for an event to take place, and thus are the best indicators..\n",
    "only specific values are of importance (the highest indicators). As a result, I will be creating three novel dataframes, named “hold_df”, “buy_df”, and “sell_df” that will then be contacted into “new_df”."
   ]
  },
  {
   "cell_type": "code",
   "execution_count": null,
   "metadata": {},
   "outputs": [],
   "source": [
    "hold_df = df[df.recommendation == 3]\n",
    "buy_df = df[df.recommendation <= 1.5]\n",
    "sell_df = df[df.recommendation >= 4.5]\n",
    "\n",
    "df_list = [hold_df, buy_df, sell_df]\n",
    "new_df = pd.concat(df_list)\n",
    "new_df.reset_index(level=0, inplace=True)\n",
    "new_df"
   ]
  },
  {
   "cell_type": "markdown",
   "metadata": {},
   "source": [
    "It is now time to fetch the News and Twitter feed. Once both feeds are successfully fetched, sentiment analysis for each stock will be individually conducted for each platform and then the two results will be added and divided by two.\n",
    "So the final sentiment score will be calculated as follows:\n",
    "Final Score = (Twitter Sentiment Score + News Feed Sentiment Score) / 2"
   ]
  },
  {
   "cell_type": "code",
   "execution_count": null,
   "metadata": {},
   "outputs": [],
   "source": [
    "tickers =[] \n",
    "  \n",
    "for index, rows in new_df.iterrows(): \n",
    "    tickers.append(rows.company) \n",
    "\n",
    "print(tickers)"
   ]
  },
  {
   "cell_type": "markdown",
   "metadata": {},
   "source": [
    "finviz is going to be used to parse the news data into a Pandas dataframe."
   ]
  },
  {
   "cell_type": "code",
   "execution_count": null,
   "metadata": {},
   "outputs": [],
   "source": [
    "finwiz_url = 'https://finviz.com/quote.ashx?t='\n",
    "\n",
    "news_tables = {}\n",
    "\n",
    "for ticker in tickers:\n",
    "    url = finwiz_url + ticker\n",
    "    req = Request(url=url,headers={'user-agent': 'my-app/0.0.1'}) \n",
    "    response = urlopen(req)    \n",
    "    html = BeautifulSoup(response)\n",
    "    news_table = html.find(id='news-table')\n",
    "    news_tables[ticker] = news_table\n",
    "    \n",
    "parsed_news = []\n",
    "\n",
    "for file_name, news_table in news_tables.items():\n",
    "    for x in news_table.findAll('tr'):\n",
    "    \n",
    "        text = x.a.get_text() \n",
    "        date_scrape = x.td.text.split()\n",
    "\n",
    "        if len(date_scrape) == 1:\n",
    "            time = date_scrape[0]\n",
    "            \n",
    "        else:\n",
    "            date = date_scrape[0]\n",
    "            time = date_scrape[1]\n",
    "        ticker = file_name.split('_')[0]\n",
    "        \n",
    "        parsed_news.append([ticker, date, time, text])\n",
    "        "
   ]
  },
  {
   "cell_type": "code",
   "execution_count": null,
   "metadata": {},
   "outputs": [],
   "source": [
    "columns = ['ticker', 'date', 'time', 'headline']\n",
    "\n",
    "parsed_and_scored_news = pd.DataFrame(parsed_news, columns=columns)\n",
    "\n",
    "parsed_and_scored_news['date'] = pd.to_datetime(parsed_and_scored_news.date).dt.date\n",
    "\n",
    "parsed_and_scored_news.head()"
   ]
  },
  {
   "cell_type": "markdown",
   "metadata": {},
   "source": [
    "The problem with the data is that in their current form, they can not be used by any model. Thus, I will be grouping the headlines for each company in one string, according to the company they are referring to."
   ]
  },
  {
   "cell_type": "code",
   "execution_count": null,
   "metadata": {},
   "outputs": [],
   "source": [
    "parsed_and_scored_news = parsed_and_scored_news.groupby(['ticker'], as_index = False)\\\n",
    "    .agg({'headline': ''.join}, Inplace=True)\n",
    "parsed_and_scored_news"
   ]
  },
  {
   "cell_type": "code",
   "execution_count": null,
   "metadata": {},
   "outputs": [],
   "source": [
    "vader = SentimentIntensityAnalyzer()\n",
    "\n",
    "scores = parsed_and_scored_news['headline'].apply(vader.polarity_scores).tolist()\n",
    "\n",
    "scores_df = pd.DataFrame(scores)\n",
    "\n",
    "parsed_and_scored_news = parsed_and_scored_news.join(scores_df, rsuffix='_right')"
   ]
  },
  {
   "cell_type": "code",
   "execution_count": null,
   "metadata": {},
   "outputs": [],
   "source": [
    "parsed_and_scored_news"
   ]
  },
  {
   "cell_type": "code",
   "execution_count": null,
   "metadata": {},
   "outputs": [],
   "source": []
  },
  {
   "cell_type": "code",
   "execution_count": null,
   "metadata": {},
   "outputs": [],
   "source": [
    "# download language model\n",
    "!python -m spacy download en_core_web_sm"
   ]
  },
  {
   "cell_type": "code",
   "execution_count": null,
   "metadata": {},
   "outputs": [],
   "source": [
    "import spacy\n",
    "\n",
    "nlp = spacy.load(\"en_core_web_sm\")\n",
    "doc = nlp(\"Apple is looking at buying U.K. startup for $1 billion\")\n",
    "\n",
    "# for token in doc:\n",
    "#     print(token.text, token.lemma_, token.pos_, token.tag_, token.dep_,\n",
    "#             token.shape_, token.is_alpha, token.is_stop)\n",
    "\n",
    "for ent in doc.ents:\n",
    "    print(ent.text, ent.start_char, ent.end_char, ent.label_)"
   ]
  },
  {
   "cell_type": "code",
   "execution_count": null,
   "metadata": {},
   "outputs": [],
   "source": [
    "import pandas as pd"
   ]
  },
  {
   "cell_type": "code",
   "execution_count": null,
   "metadata": {},
   "outputs": [],
   "source": []
  },
  {
   "cell_type": "code",
   "execution_count": null,
   "metadata": {},
   "outputs": [],
   "source": [
    "!ls stocks_latest"
   ]
  },
  {
   "cell_type": "code",
   "execution_count": null,
   "metadata": {},
   "outputs": [],
   "source": [
    "df = pd.read_csv('dataset_summary.csv')\n",
    "df.head()"
   ]
  },
  {
   "cell_type": "code",
   "execution_count": null,
   "metadata": {},
   "outputs": [],
   "source": [
    "df = pd.read_csv('stocks_latest/stock_prices_latest.csv', parse_dates=['date'])\n",
    "df.head()"
   ]
  },
  {
   "cell_type": "code",
   "execution_count": null,
   "metadata": {},
   "outputs": [],
   "source": [
    "df.info()"
   ]
  },
  {
   "cell_type": "code",
   "execution_count": null,
   "metadata": {},
   "outputs": [],
   "source": [
    "stock = ['A']\n",
    "A = df[df.symbol.isin(stock)]"
   ]
  },
  {
   "cell_type": "code",
   "execution_count": null,
   "metadata": {},
   "outputs": [],
   "source": [
    "A.set_index('date', inplace=True)\n",
    "A.sort_index(inplace=True)"
   ]
  },
  {
   "cell_type": "code",
   "execution_count": null,
   "metadata": {},
   "outputs": [],
   "source": [
    "A.head()"
   ]
  },
  {
   "cell_type": "code",
   "execution_count": null,
   "metadata": {},
   "outputs": [],
   "source": [
    "A.truncate(before='2015-01-01')['close'].plot(figsize=(16,12))"
   ]
  },
  {
   "cell_type": "code",
   "execution_count": null,
   "metadata": {},
   "outputs": [],
   "source": [
    "by_symbol = df.groupby(['date','symbol'])"
   ]
  },
  {
   "cell_type": "code",
   "execution_count": null,
   "metadata": {},
   "outputs": [],
   "source": [
    "by_symbol"
   ]
  },
  {
   "cell_type": "code",
   "execution_count": null,
   "metadata": {},
   "outputs": [],
   "source": []
  }
 ],
 "metadata": {
  "kernelspec": {
   "display_name": "Python 3.8.3 64-bit ('springboard': conda)",
   "language": "python",
   "name": "python38364bitspringboardconda8eec40d942e84bf0a5a0c76aa15b276b"
  },
  "language_info": {
   "codemirror_mode": {
    "name": "ipython",
    "version": 3
   },
   "file_extension": ".py",
   "mimetype": "text/x-python",
   "name": "python",
   "nbconvert_exporter": "python",
   "pygments_lexer": "ipython3",
   "version": "3.8.3"
  }
 },
 "nbformat": 4,
 "nbformat_minor": 4
}
